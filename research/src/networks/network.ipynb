{
 "cells": [
  {
   "cell_type": "code",
   "execution_count": 1,
   "metadata": {
    "collapsed": true,
    "run_control": {
     "frozen": false,
     "read_only": false
    }
   },
   "outputs": [],
   "source": [
    "from network_utils import graph_generator, graph_utils"
   ]
  },
  {
   "cell_type": "markdown",
   "metadata": {},
   "source": [
    "### グラフの定義"
   ]
  },
  {
   "cell_type": "code",
   "execution_count": 2,
   "metadata": {},
   "outputs": [],
   "source": [
    "cG = graph_generator.complete_graph()\n",
    "rG = graph_generator.random_graph()\n",
    "g2G = graph_generator.grid_2d_graph()\n",
    "g3G = graph_generator.grid_graph()\n",
    "wG = graph_generator.watts_strogatz_graph()\n",
    "nwG = graph_generator.newman_watts_strogatz_graph()\n",
    "cwG = graph_generator.connected_watts_strogatz_graph()\n",
    "baG = graph_generator.barabasi_albert_graph()\n",
    "pcG = graph_generator.powerlaw_cluster_graph()\n",
    "\n",
    "nameG = [\"complete\", \"random\", \"grid 2d\", \"grid 3d\",\"watts strogatz\", \"newman ws\", \"connected ws\", \"barabasi albert\", \"powerlaw cluster\"]\n",
    "allG = [cG, rG, g2G, g3G, wG, nwG, cwG, baG, pcG]"
   ]
  },
  {
   "cell_type": "markdown",
   "metadata": {},
   "source": [
    "### 各指標を算出"
   ]
  },
  {
   "cell_type": "markdown",
   "metadata": {},
   "source": [
    "#### ノード数，エッジ数"
   ]
  },
  {
   "cell_type": "code",
   "execution_count": 3,
   "metadata": {},
   "outputs": [
    {
     "name": "stdout",
     "output_type": "stream",
     "text": [
      "complete : \n",
      "\tnode ->  100 edge ->  4950\n",
      "random : \n",
      "\tnode ->  100 edge ->  2500\n",
      "grid 2d : \n",
      "\tnode ->  100 edge ->  180\n",
      "grid 3d : \n",
      "\tnode ->  100 edge ->  235\n",
      "watts strogatz : \n",
      "\tnode ->  100 edge ->  2500\n",
      "newman ws : \n",
      "\tnode ->  100 edge ->  3733\n",
      "connected ws : \n",
      "\tnode ->  100 edge ->  2500\n",
      "barabasi albert : \n",
      "\tnode ->  100 edge ->  2100\n",
      "powerlaw cluster : \n",
      "\tnode ->  100 edge ->  2446\n"
     ]
    }
   ],
   "source": [
    "for n, G in zip(nameG, allG):\n",
    "    print(n, \":\", \"\\n\\tnode -> \", len(G.nodes()), \"edge -> \",len(G.edges()))"
   ]
  },
  {
   "cell_type": "markdown",
   "metadata": {},
   "source": [
    "#### 平均経路長"
   ]
  },
  {
   "cell_type": "code",
   "execution_count": 4,
   "metadata": {},
   "outputs": [
    {
     "name": "stdout",
     "output_type": "stream",
     "text": [
      "complete : 1.0\n",
      "random : 1.494949494949495\n",
      "grid 2d : 6.666666666666667\n",
      "grid 3d : 4.494949494949495\n",
      "watts strogatz : 1.494949494949495\n",
      "newman ws : 1.2458585858585858\n",
      "connected ws : 1.494949494949495\n",
      "barabasi albert : 1.5757575757575757\n",
      "powerlaw cluster : 1.5058585858585858\n"
     ]
    }
   ],
   "source": [
    "for n, G in zip(nameG, allG):\n",
    "    try:\n",
    "        print(n, \":\", graph_utils.average_shortest_path_length(G))\n",
    "    except:\n",
    "        print(n, \": Graph is not connected.\")"
   ]
  },
  {
   "cell_type": "markdown",
   "metadata": {},
   "source": [
    "#### クラスタリング係数"
   ]
  },
  {
   "cell_type": "code",
   "execution_count": 5,
   "metadata": {},
   "outputs": [
    {
     "name": "stdout",
     "output_type": "stream",
     "text": [
      "complete : 1.0\n",
      "random : 0.5065991229486276\n",
      "grid 2d : 0.0\n",
      "grid 3d : 0.0\n",
      "watts strogatz : 0.5092908420601672\n",
      "newman ws : 0.774275871138192\n",
      "connected ws : 0.5029060406327757\n",
      "barabasi albert : 0.5456483072191375\n",
      "powerlaw cluster : 0.6852082762102935\n"
     ]
    }
   ],
   "source": [
    "for n, G in zip(nameG, allG):\n",
    "    print(n, \":\", graph_utils.average_clustering(G))"
   ]
  },
  {
   "cell_type": "markdown",
   "metadata": {},
   "source": [
    "#### 次数相関"
   ]
  },
  {
   "cell_type": "code",
   "execution_count": 6,
   "metadata": {},
   "outputs": [
    {
     "name": "stdout",
     "output_type": "stream",
     "text": [
      "complete : nan\n",
      "random : -0.0455051158939\n",
      "grid 2d : 0.570610687023\n",
      "grid 3d : 0.596475933851\n",
      "watts strogatz : -0.0152919540541\n",
      "newman ws : -0.0405284759297\n",
      "connected ws : -0.00841461798327\n",
      "barabasi albert : -0.183259048868\n",
      "powerlaw cluster : -0.348212749674\n"
     ]
    },
    {
     "name": "stderr",
     "output_type": "stream",
     "text": [
      "/Users/yamazakitakurou/.pyenv/versions/3.5.2/lib/python3.5/site-packages/scipy/stats/stats.py:3021: RuntimeWarning: invalid value encountered in double_scalars\n",
      "  r = r_num / r_den\n"
     ]
    }
   ],
   "source": [
    "for n, G in zip(nameG, allG):\n",
    "    print(n, \":\", graph_utils.assortativity(G))"
   ]
  },
  {
   "cell_type": "markdown",
   "metadata": {},
   "source": [
    "#### 次数分布"
   ]
  },
  {
   "cell_type": "code",
   "execution_count": 3,
   "metadata": {
    "collapsed": true
   },
   "outputs": [],
   "source": [
    "for n, G in zip(nameG, allG):\n",
    "    name = \"_\".join(n.split())\n",
    "    graph_utils.plot_degree_histogram(G,\"./dump/degree/\"+name+\".png\")"
   ]
  },
  {
   "cell_type": "code",
   "execution_count": 3,
   "metadata": {},
   "outputs": [],
   "source": [
    "for n, G in zip(nameG, allG):\n",
    "    name = \"_\".join(n.split())\n",
    "    graph_utils.plot_graph(G,\"./dump/network/\"+name+\".png\")"
   ]
  },
  {
   "cell_type": "code",
   "execution_count": null,
   "metadata": {
    "collapsed": true
   },
   "outputs": [],
   "source": []
  }
 ],
 "metadata": {
  "kernelspec": {
   "display_name": "Python 3",
   "language": "python",
   "name": "python3"
  },
  "language_info": {
   "codemirror_mode": {
    "name": "ipython",
    "version": 3
   },
   "file_extension": ".py",
   "mimetype": "text/x-python",
   "name": "python",
   "nbconvert_exporter": "python",
   "pygments_lexer": "ipython3",
   "version": "3.5.2"
  }
 },
 "nbformat": 4,
 "nbformat_minor": 2
}
