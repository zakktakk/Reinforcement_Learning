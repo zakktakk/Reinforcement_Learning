{
 "cells": [
  {
   "cell_type": "code",
   "execution_count": 6,
   "metadata": {
    "run_control": {
     "frozen": false,
     "read_only": false
    }
   },
   "outputs": [
    {
     "ename": "SystemError",
     "evalue": "Parent module '' not loaded, cannot perform relative import",
     "output_type": "error",
     "traceback": [
      "\u001b[0;31m---------------------------------------------------------------------------\u001b[0m",
      "\u001b[0;31mSystemError\u001b[0m                               Traceback (most recent call last)",
      "\u001b[0;32m<ipython-input-6-beb14ac58c22>\u001b[0m in \u001b[0;36m<module>\u001b[0;34m()\u001b[0m\n\u001b[1;32m      2\u001b[0m \u001b[0msys\u001b[0m\u001b[0;34m.\u001b[0m\u001b[0mpath\u001b[0m\u001b[0;34m.\u001b[0m\u001b[0mappend\u001b[0m\u001b[0;34m(\u001b[0m\u001b[0;34m\"../agent\"\u001b[0m\u001b[0;34m)\u001b[0m\u001b[0;34m\u001b[0m\u001b[0m\n\u001b[1;32m      3\u001b[0m \u001b[0;34m\u001b[0m\u001b[0m\n\u001b[0;32m----> 4\u001b[0;31m \u001b[0;32mfrom\u001b[0m \u001b[0mQ_Learning_Agent\u001b[0m \u001b[0;32mimport\u001b[0m \u001b[0mQ_Learning_Agent\u001b[0m\u001b[0;34m\u001b[0m\u001b[0m\n\u001b[0m\u001b[1;32m      5\u001b[0m \u001b[0;32mimport\u001b[0m \u001b[0mnetworkx\u001b[0m \u001b[0;32mas\u001b[0m \u001b[0mnx\u001b[0m\u001b[0;34m\u001b[0m\u001b[0m\n\u001b[1;32m      6\u001b[0m \u001b[0;32mimport\u001b[0m \u001b[0mpandas\u001b[0m \u001b[0;32mas\u001b[0m \u001b[0mpd\u001b[0m\u001b[0;34m\u001b[0m\u001b[0m\n",
      "\u001b[0;32m~/Desktop/Reinforcement_Learning/research/src/agent/Q_Learning_Agent.py\u001b[0m in \u001b[0;36m<module>\u001b[0;34m()\u001b[0m\n\u001b[1;32m     15\u001b[0m \u001b[0;32mimport\u001b[0m \u001b[0mpandas\u001b[0m \u001b[0;32mas\u001b[0m \u001b[0mpd\u001b[0m\u001b[0;34m\u001b[0m\u001b[0m\n\u001b[1;32m     16\u001b[0m \u001b[0;34m\u001b[0m\u001b[0m\n\u001b[0;32m---> 17\u001b[0;31m \u001b[0;32mfrom\u001b[0m \u001b[0;34m.\u001b[0m\u001b[0mpolicy\u001b[0m \u001b[0;32mimport\u001b[0m \u001b[0;34m*\u001b[0m\u001b[0;34m\u001b[0m\u001b[0m\n\u001b[0m\u001b[1;32m     18\u001b[0m \u001b[0;32mfrom\u001b[0m \u001b[0;34m.\u001b[0m\u001b[0mAgent\u001b[0m \u001b[0;32mimport\u001b[0m \u001b[0mAgent\u001b[0m\u001b[0;34m\u001b[0m\u001b[0m\n\u001b[1;32m     19\u001b[0m \u001b[0;34m\u001b[0m\u001b[0m\n",
      "\u001b[0;31mSystemError\u001b[0m: Parent module '' not loaded, cannot perform relative import"
     ]
    }
   ],
   "source": [
    "import sys\n",
    "sys.path.append(\"../agent\")\n",
    "\n",
    "from Q_Learning_Agent import Q_Learning_Agent\n",
    "import networkx as nx\n",
    "import pandas as pd\n",
    "from network_utils import graph_generator, graph_utils\n",
    "import matplotlib.pyplot as plt\n",
    "%matplotlib inline"
   ]
  },
  {
   "cell_type": "markdown",
   "metadata": {
    "run_control": {
     "frozen": false,
     "read_only": false
    }
   },
   "source": [
    "### グラフの定義"
   ]
  },
  {
   "cell_type": "code",
   "execution_count": 5,
   "metadata": {
    "run_control": {
     "frozen": false,
     "read_only": false
    }
   },
   "outputs": [
    {
     "ename": "ImportError",
     "evalue": "No module named 'agent'",
     "output_type": "error",
     "traceback": [
      "\u001b[0;31m---------------------------------------------------------------------------\u001b[0m",
      "\u001b[0;31mImportError\u001b[0m                               Traceback (most recent call last)",
      "\u001b[0;32m<ipython-input-5-2f234a369450>\u001b[0m in \u001b[0;36m<module>\u001b[0;34m()\u001b[0m\n\u001b[0;32m----> 1\u001b[0;31m \u001b[0mcG\u001b[0m \u001b[0;34m=\u001b[0m \u001b[0mnx\u001b[0m\u001b[0;34m.\u001b[0m\u001b[0mread_gpickle\u001b[0m\u001b[0;34m(\u001b[0m\u001b[0;34m\"../../results/basic/q/complete/prisoners_dilemma_g.gpickle\"\u001b[0m\u001b[0;34m)\u001b[0m\u001b[0;34m\u001b[0m\u001b[0m\n\u001b[0m\u001b[1;32m      2\u001b[0m \u001b[0mrG\u001b[0m \u001b[0;34m=\u001b[0m \u001b[0mnx\u001b[0m\u001b[0;34m.\u001b[0m\u001b[0mread_gpickle\u001b[0m\u001b[0;34m(\u001b[0m\u001b[0;34m\"../../results/basic/q/random/prisoners_dilemma_g.gpickle\"\u001b[0m\u001b[0;34m)\u001b[0m\u001b[0;34m\u001b[0m\u001b[0m\n\u001b[1;32m      3\u001b[0m \u001b[0mg2G\u001b[0m \u001b[0;34m=\u001b[0m \u001b[0mnx\u001b[0m\u001b[0;34m.\u001b[0m\u001b[0mread_gpickle\u001b[0m\u001b[0;34m(\u001b[0m\u001b[0;34m\"../../results/basic/q/grid2d/prisoners_dilemma_g.gpickle\"\u001b[0m\u001b[0;34m)\u001b[0m\u001b[0;34m\u001b[0m\u001b[0m\n\u001b[1;32m      4\u001b[0m \u001b[0mwG\u001b[0m \u001b[0;34m=\u001b[0m \u001b[0mnx\u001b[0m\u001b[0;34m.\u001b[0m\u001b[0mread_gpickle\u001b[0m\u001b[0;34m(\u001b[0m\u001b[0;34m\"../../results/basic/q/watts_strogatz/prisoners_dilemma_g.gpickle\"\u001b[0m\u001b[0;34m)\u001b[0m\u001b[0;34m\u001b[0m\u001b[0m\n\u001b[1;32m      5\u001b[0m \u001b[0mbaG\u001b[0m \u001b[0;34m=\u001b[0m \u001b[0mnx\u001b[0m\u001b[0;34m.\u001b[0m\u001b[0mread_gpickle\u001b[0m\u001b[0;34m(\u001b[0m\u001b[0;34m\"../../results/basic/q/barabasi_albert/prisoners_dilemma_g.gpickle\"\u001b[0m\u001b[0;34m)\u001b[0m\u001b[0;34m\u001b[0m\u001b[0m\n",
      "\u001b[0;32m<decorator-gen-298>\u001b[0m in \u001b[0;36mread_gpickle\u001b[0;34m(path)\u001b[0m\n",
      "\u001b[0;32m~/.pyenv/versions/3.5.2/lib/python3.5/site-packages/networkx/utils/decorators.py\u001b[0m in \u001b[0;36m_open_file\u001b[0;34m(func, *args, **kwargs)\u001b[0m\n\u001b[1;32m    218\u001b[0m         \u001b[0;31m# Finally, we call the original function, making sure to close the fobj.\u001b[0m\u001b[0;34m\u001b[0m\u001b[0;34m\u001b[0m\u001b[0m\n\u001b[1;32m    219\u001b[0m         \u001b[0;32mtry\u001b[0m\u001b[0;34m:\u001b[0m\u001b[0;34m\u001b[0m\u001b[0m\n\u001b[0;32m--> 220\u001b[0;31m             \u001b[0mresult\u001b[0m \u001b[0;34m=\u001b[0m \u001b[0mfunc\u001b[0m\u001b[0;34m(\u001b[0m\u001b[0;34m*\u001b[0m\u001b[0mnew_args\u001b[0m\u001b[0;34m,\u001b[0m \u001b[0;34m**\u001b[0m\u001b[0mkwargs\u001b[0m\u001b[0;34m)\u001b[0m\u001b[0;34m\u001b[0m\u001b[0m\n\u001b[0m\u001b[1;32m    221\u001b[0m         \u001b[0;32mfinally\u001b[0m\u001b[0;34m:\u001b[0m\u001b[0;34m\u001b[0m\u001b[0m\n\u001b[1;32m    222\u001b[0m             \u001b[0;32mif\u001b[0m \u001b[0mclose_fobj\u001b[0m\u001b[0;34m:\u001b[0m\u001b[0;34m\u001b[0m\u001b[0m\n",
      "\u001b[0;32m~/.pyenv/versions/3.5.2/lib/python3.5/site-packages/networkx/readwrite/gpickle.py\u001b[0m in \u001b[0;36mread_gpickle\u001b[0;34m(path)\u001b[0m\n\u001b[1;32m     99\u001b[0m     \u001b[0;34m.\u001b[0m\u001b[0;34m.\u001b[0m \u001b[0;34m[\u001b[0m\u001b[0;36m1\u001b[0m\u001b[0;34m]\u001b[0m \u001b[0mhttp\u001b[0m\u001b[0;34m:\u001b[0m\u001b[0;34m//\u001b[0m\u001b[0mdocs\u001b[0m\u001b[0;34m.\u001b[0m\u001b[0mpython\u001b[0m\u001b[0;34m.\u001b[0m\u001b[0morg\u001b[0m\u001b[0;34m/\u001b[0m\u001b[0mlibrary\u001b[0m\u001b[0;34m/\u001b[0m\u001b[0mpickle\u001b[0m\u001b[0;34m.\u001b[0m\u001b[0mhtml\u001b[0m\u001b[0;34m\u001b[0m\u001b[0m\n\u001b[1;32m    100\u001b[0m     \"\"\"\n\u001b[0;32m--> 101\u001b[0;31m     \u001b[0;32mreturn\u001b[0m \u001b[0mpickle\u001b[0m\u001b[0;34m.\u001b[0m\u001b[0mload\u001b[0m\u001b[0;34m(\u001b[0m\u001b[0mpath\u001b[0m\u001b[0;34m)\u001b[0m\u001b[0;34m\u001b[0m\u001b[0m\n\u001b[0m\u001b[1;32m    102\u001b[0m \u001b[0;34m\u001b[0m\u001b[0m\n\u001b[1;32m    103\u001b[0m \u001b[0;31m# fixture for nose tests\u001b[0m\u001b[0;34m\u001b[0m\u001b[0;34m\u001b[0m\u001b[0m\n",
      "\u001b[0;31mImportError\u001b[0m: No module named 'agent'"
     ]
    }
   ],
   "source": [
    "cG = nx.read_gpickle(\"../../results/basic/q/complete/prisoners_dilemma_g.gpickle\")\n",
    "rG = nx.read_gpickle(\"../../results/basic/q/random/prisoners_dilemma_g.gpickle\")\n",
    "g2G = nx.read_gpickle(\"../../results/basic/q/grid2d/prisoners_dilemma_g.gpickle\")\n",
    "wG = nx.read_gpickle(\"../../results/basic/q/watts_strogatz/prisoners_dilemma_g.gpickle\")\n",
    "baG = nx.read_gpickle(\"../../results/basic/q/barabasi_albert/prisoners_dilemma_g.gpickle\")\n",
    "pcG = nx.read_gpickle(\"../../results/basic/q/powerlaw_cluster/prisoners_dilemma_g.gpickle\")\n",
    "icG = nx.read_gpickle(\"./inner_dence_clustered.gpickle\")\n",
    "mcG = nx.read_gpickle(\"./multiple_clustered.gpickle\")\n",
    "\n",
    "nameG = [\"complete\", \"random\", \"grid 2d\", \"watts strogatz\",  \"barabasi albert\", \"powerlaw cluster\", \"inner_dence_clustered\"]\n",
    "allG = [cG, rG, g2G, g3G, wG, baG, pcG, icG, mcG]"
   ]
  },
  {
   "cell_type": "code",
   "execution_count": null,
   "metadata": {
    "collapsed": true
   },
   "outputs": [],
   "source": [
    "cR = pd.read_csv(\"../../results/basic/q/complete/prisoners_dilemma_ave.csv\")\n",
    "rR = pd.read_csv(\"../../results/basic/q/random/prisoners_dilemma_ave.csv\")\n",
    "g2R = pd.read_csv(\"../../results/basic/q/grid2d/prisoners_dilemma_ave.csv\")\n",
    "wR = pd.read_csv(\"../../results/basic/q/watts_strogatz/prisoners_dilemma_ave.csv\")\n",
    "baR = pd.read_csv(\"../../results/basic/q/barabasi_albert/prisoners_dilemma_ave.csv\")\n",
    "pcR = pd.read_csv(\"../../results/basic/q/powerlaw_cluster/prisoners_dilemma_ave.csv\")\n",
    "icR = pd.read_csv(\"../../results/clustered/q/inner_dence_clustered/prisoners_dilemma_ave.csv\")\n",
    "mcR = pd.read_csv(\"../../results/clustered/q/multiple_clustered/prisoners_dilemma_ave.csv\")"
   ]
  },
  {
   "cell_type": "markdown",
   "metadata": {
    "run_control": {
     "frozen": false,
     "read_only": false
    }
   },
   "source": [
    "### 各指標を算出"
   ]
  },
  {
   "cell_type": "markdown",
   "metadata": {
    "run_control": {
     "frozen": false,
     "read_only": false
    }
   },
   "source": [
    "#### ノード数，エッジ数"
   ]
  },
  {
   "cell_type": "code",
   "execution_count": 6,
   "metadata": {
    "run_control": {
     "frozen": false,
     "read_only": false
    }
   },
   "outputs": [
    {
     "name": "stdout",
     "output_type": "stream",
     "text": [
      "complete : \n",
      "\tnode ->  100 edge ->  4950\n",
      "random : \n",
      "\tnode ->  100 edge ->  2500\n",
      "grid 2d : \n",
      "\tnode ->  100 edge ->  180\n",
      "watts strogatz : \n",
      "\tnode ->  100 edge ->  235\n",
      "barabasi albert : \n",
      "\tnode ->  100 edge ->  2500\n",
      "powerlaw cluster : \n",
      "\tnode ->  100 edge ->  2100\n",
      "inner_dence_clustered : \n",
      "\tnode ->  100 edge ->  2446\n",
      "multiple_clustered : \n",
      "\tnode ->  100 edge ->  972\n",
      "sparse_clustered : \n",
      "\tnode ->  100 edge ->  486\n"
     ]
    }
   ],
   "source": [
    "for n, G in zip(nameG, allG):\n",
    "    print(n, \":\", \"\\n\\tnode -> \", len(G.nodes()), \"edge -> \",len(G.edges()))"
   ]
  },
  {
   "cell_type": "markdown",
   "metadata": {
    "run_control": {
     "frozen": false,
     "read_only": false
    }
   },
   "source": [
    "#### 平均経路長"
   ]
  },
  {
   "cell_type": "code",
   "execution_count": 7,
   "metadata": {
    "run_control": {
     "frozen": false,
     "read_only": false
    }
   },
   "outputs": [
    {
     "name": "stdout",
     "output_type": "stream",
     "text": [
      "complete : 1.0\n",
      "random : 1.494949494949495\n",
      "grid 2d : 6.666666666666667\n",
      "watts strogatz : 4.494949494949495\n",
      "barabasi albert : 1.494949494949495\n",
      "powerlaw cluster : 1.5757575757575757\n",
      "inner_dence_clustered : 1.5058585858585858\n",
      "multiple_clustered : 2.5054545454545454\n",
      "sparse_clustered : 3.0272727272727273\n"
     ]
    }
   ],
   "source": [
    "for n, G in zip(nameG, allG):\n",
    "    try:\n",
    "        print(n, \":\", graph_utils.average_shortest_path_length(G))\n",
    "    except:\n",
    "        print(n, \": Graph is not connected.\")"
   ]
  },
  {
   "cell_type": "markdown",
   "metadata": {
    "run_control": {
     "frozen": false,
     "read_only": false
    }
   },
   "source": [
    "#### クラスタリング係数"
   ]
  },
  {
   "cell_type": "code",
   "execution_count": 8,
   "metadata": {
    "run_control": {
     "frozen": false,
     "read_only": false
    }
   },
   "outputs": [
    {
     "name": "stdout",
     "output_type": "stream",
     "text": [
      "complete : 1.0\n",
      "random : 0.5059361008366361\n",
      "grid 2d : 0.0\n",
      "watts strogatz : 0.0\n",
      "barabasi albert : 0.5034662557791677\n",
      "powerlaw cluster : 0.5427813588520223\n",
      "inner_dence_clustered : 0.6894118960259012\n",
      "multiple_clustered : 0.9344582909843777\n",
      "sparse_clustered : 0.7509384504384503\n"
     ]
    }
   ],
   "source": [
    "for n, G in zip(nameG, allG):\n",
    "    print(n, \":\", graph_utils.average_clustering(G))"
   ]
  },
  {
   "cell_type": "markdown",
   "metadata": {
    "run_control": {
     "frozen": false,
     "read_only": false
    }
   },
   "source": [
    "#### 次数相関"
   ]
  },
  {
   "cell_type": "code",
   "execution_count": 9,
   "metadata": {
    "run_control": {
     "frozen": false,
     "read_only": false
    },
    "scrolled": true
   },
   "outputs": [
    {
     "name": "stdout",
     "output_type": "stream",
     "text": [
      "complete : nan\n",
      "random : -0.0234759793328\n",
      "grid 2d : 0.570610687023\n",
      "watts strogatz : 0.596475933851\n",
      "barabasi albert : -0.0112655910372\n",
      "powerlaw cluster : -0.191444979573\n",
      "inner_dence_clustered : -0.360698080343\n",
      "multiple_clustered : -0.10584916831\n",
      "sparse_clustered : -0.0154605951177\n"
     ]
    },
    {
     "name": "stderr",
     "output_type": "stream",
     "text": [
      "/Users/yamazakitakurou/.pyenv/versions/3.5.2/lib/python3.5/site-packages/scipy/stats/stats.py:3021: RuntimeWarning: invalid value encountered in double_scalars\n",
      "  r = r_num / r_den\n"
     ]
    }
   ],
   "source": [
    "for n, G in zip(nameG, allG):\n",
    "    print(n, \":\", graph_utils.assortativity(G))"
   ]
  },
  {
   "cell_type": "markdown",
   "metadata": {
    "run_control": {
     "frozen": false,
     "read_only": false
    }
   },
   "source": [
    "#### 次数分布"
   ]
  },
  {
   "cell_type": "code",
   "execution_count": 10,
   "metadata": {
    "collapsed": true,
    "run_control": {
     "frozen": false,
     "read_only": false
    }
   },
   "outputs": [],
   "source": [
    "for n, G in zip(nameG, allG):\n",
    "    name = \"_\".join(n.split())\n",
    "    graph_utils.plot_degree_histogram(G,\"./fig/degree/\"+name+\".png\")"
   ]
  },
  {
   "cell_type": "code",
   "execution_count": 11,
   "metadata": {
    "collapsed": true,
    "run_control": {
     "frozen": false,
     "read_only": false
    }
   },
   "outputs": [],
   "source": [
    "for n, G in zip(nameG, allG):\n",
    "    name = \"_\".join(n.split())\n",
    "    graph_utils.plot_graph(G,\"./fig/network/\"+name+\".png\")"
   ]
  },
  {
   "cell_type": "code",
   "execution_count": null,
   "metadata": {
    "collapsed": true,
    "run_control": {
     "frozen": false,
     "read_only": false
    }
   },
   "outputs": [],
   "source": []
  }
 ],
 "metadata": {
  "kernelspec": {
   "display_name": "Python 3",
   "language": "python",
   "name": "python3"
  },
  "language_info": {
   "codemirror_mode": {
    "name": "ipython",
    "version": 3
   },
   "file_extension": ".py",
   "mimetype": "text/x-python",
   "name": "python",
   "nbconvert_exporter": "python",
   "pygments_lexer": "ipython3",
   "version": "3.5.2"
  }
 },
 "nbformat": 4,
 "nbformat_minor": 2
}
