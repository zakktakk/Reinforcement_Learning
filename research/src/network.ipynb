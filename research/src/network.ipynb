{
 "cells": [
  {
   "cell_type": "code",
   "execution_count": 1,
   "metadata": {
    "collapsed": true,
    "run_control": {
     "frozen": false,
     "read_only": false
    }
   },
   "outputs": [],
   "source": [
    "from agent.Q_Learning_Agent import Q_Learning_Agent\n",
    "import networkx as nx\n",
    "import pandas as pd\n",
    "import numpy as np\n",
    "from networks.network_utils import graph_generator, graph_utils\n",
    "import matplotlib.pyplot as plt\n",
    "%matplotlib inline"
   ]
  },
  {
   "cell_type": "markdown",
   "metadata": {
    "run_control": {
     "frozen": false,
     "read_only": false
    }
   },
   "source": [
    "### グラフの定義"
   ]
  },
  {
   "cell_type": "code",
   "execution_count": 2,
   "metadata": {
    "collapsed": true
   },
   "outputs": [],
   "source": [
    "G = nx.read_gpickle(\"./networks/onedim_regular.gpickle\")"
   ]
  },
  {
   "cell_type": "code",
   "execution_count": 5,
   "metadata": {},
   "outputs": [
    {
     "name": "stderr",
     "output_type": "stream",
     "text": [
      "/Users/yamazakitakurou/.pyenv/versions/3.5.2/lib/python3.5/site-packages/networkx/drawing/nx_pylab.py:126: MatplotlibDeprecationWarning: pyplot.hold is deprecated.\n",
      "    Future behavior will be consistent with the long-time default:\n",
      "    plot commands add elements without first clearing the\n",
      "    Axes and/or Figure.\n",
      "  b = plt.ishold()\n",
      "/Users/yamazakitakurou/.pyenv/versions/3.5.2/lib/python3.5/site-packages/networkx/drawing/nx_pylab.py:138: MatplotlibDeprecationWarning: pyplot.hold is deprecated.\n",
      "    Future behavior will be consistent with the long-time default:\n",
      "    plot commands add elements without first clearing the\n",
      "    Axes and/or Figure.\n",
      "  plt.hold(b)\n",
      "/Users/yamazakitakurou/.pyenv/versions/3.5.2/lib/python3.5/site-packages/matplotlib/__init__.py:917: UserWarning: axes.hold is deprecated. Please remove it from your matplotlibrc and/or style files.\n",
      "  warnings.warn(self.msg_depr_set % key)\n",
      "/Users/yamazakitakurou/.pyenv/versions/3.5.2/lib/python3.5/site-packages/matplotlib/rcsetup.py:152: UserWarning: axes.hold is deprecated, will be removed in 3.0\n",
      "  warnings.warn(\"axes.hold is deprecated, will be removed in 3.0\")\n"
     ]
    },
    {
     "data": {
      "image/png": "[encoded data removed]",
      "text/plain": [
       "<matplotlib.figure.Figure at 0x10a4648d0>"
      ]
     },
     "metadata": {},
     "output_type": "display_data"
    }
   ],
   "source": [
    "nx.draw_circular(G, node_color='b', edge_color='g', node_size=100)"
   ]
  },
  {
   "cell_type": "code",
   "execution_count": 2,
   "metadata": {
    "collapsed": true,
    "run_control": {
     "frozen": false,
     "read_only": false
    }
   },
   "outputs": [],
   "source": [
    "cG = nx.read_gpickle(\"../results/basic/q/complete/prisoners_dilemma_g.gpickle\")\n",
    "rG = nx.read_gpickle(\"../results/basic/q/random/prisoners_dilemma_g.gpickle\")\n",
    "g2G = nx.read_gpickle(\"../results/basic/q/grid2d/prisoners_dilemma_g.gpickle\")\n",
    "wG = nx.read_gpickle(\"../results/basic/q/watts_strogatz/prisoners_dilemma_g.gpickle\")\n",
    "baG = nx.read_gpickle(\"../results/basic/q/barabasi_albert/prisoners_dilemma_g.gpickle\")\n",
    "pcG = nx.read_gpickle(\"../results/basic/q/powerlaw_cluster/prisoners_dilemma_g.gpickle\")\n",
    "icG = nx.read_gpickle(\"./networks/inner_dence_clustered.gpickle\")\n",
    "mcG = nx.read_gpickle(\"./networks/multiple_clustered.gpickle\")\n",
    "\n",
    "nameG = [\"complete\", \"random\", \"grid 2d\", \"watts strogatz\",  \"barabasi albert\", \"powerlaw cluster\", \"inner_dence_clustered\"]\n",
    "allG = [cG, rG, g2G, wG, baG, pcG, icG, mcG]"
   ]
  },
  {
   "cell_type": "code",
   "execution_count": 3,
   "metadata": {
    "collapsed": true,
    "run_control": {
     "frozen": false,
     "read_only": false
    }
   },
   "outputs": [],
   "source": [
    "cR = pd.read_csv(\"../results/basic/q/complete/prisoners_dilemma_ave.csv\", header=None).iloc[-1][0]\n",
    "rR = pd.read_csv(\"../results/basic/q/random/prisoners_dilemma_ave.csv\", header=None).iloc[-1][0]\n",
    "g2R = pd.read_csv(\"../results/basic/q/grid2d/prisoners_dilemma_ave.csv\", header=None).iloc[-1][0]\n",
    "wR = pd.read_csv(\"../results/basic/q/watts_strogatz/prisoners_dilemma_ave.csv\", header=None).iloc[-1][0]\n",
    "baR = pd.read_csv(\"../results/basic/q/barabasi_albert/prisoners_dilemma_ave.csv\", header=None).iloc[-1][0]\n",
    "pcR = pd.read_csv(\"../results/basic/q/powerlaw_cluster/prisoners_dilemma_ave.csv\", header=None).iloc[-1][0]\n",
    "icR = pd.read_csv(\"../results/clustered/q/inner_dence_clustered/prisoners_dilemma_ave.csv\", header=None).iloc[-1][0]\n",
    "mcR = pd.read_csv(\"../results/clustered/q/multiple_clustered/prisoners_dilemma_ave.csv\", header=None).iloc[-1][0]\n",
    "\n",
    "allR = [cR, rR, g2R, wR, baR, pcR, icR, mcR]"
   ]
  },
  {
   "cell_type": "markdown",
   "metadata": {
    "run_control": {
     "frozen": false,
     "read_only": false
    }
   },
   "source": [
    "### 各指標を算出"
   ]
  },
  {
   "cell_type": "markdown",
   "metadata": {
    "run_control": {
     "frozen": false,
     "read_only": false
    }
   },
   "source": [
    "#### ノード数，エッジ数"
   ]
  },
  {
   "cell_type": "code",
   "execution_count": 15,
   "metadata": {
    "run_control": {
     "frozen": false,
     "read_only": false
    }
   },
   "outputs": [
    {
     "name": "stdout",
     "output_type": "stream",
     "text": [
      "complete : \n",
      "\tnode ->  100 edge ->  4950\n",
      "random : \n",
      "\tnode ->  100 edge ->  2500\n",
      "grid 2d : \n",
      "\tnode ->  100 edge ->  180\n",
      "watts strogatz : \n",
      "\tnode ->  100 edge ->  2500\n",
      "barabasi albert : \n",
      "\tnode ->  100 edge ->  2100\n",
      "powerlaw cluster : \n",
      "\tnode ->  100 edge ->  2432\n",
      "inner_dence_clustered : \n",
      "\tnode ->  100 edge ->  972\n"
     ]
    }
   ],
   "source": [
    "for n, G in zip(nameG, allG):\n",
    "    print(n, \":\", \"\\n\\tnode -> \", len(G.nodes()), \"edge -> \",len(G.edges()))"
   ]
  },
  {
   "cell_type": "code",
   "execution_count": 8,
   "metadata": {
    "run_control": {
     "frozen": false,
     "read_only": false
    }
   },
   "outputs": [
    {
     "data": {
      "image/png": "[encoded data removed]",
      "text/plain": [
       "<matplotlib.figure.Figure at 0x115f424a8>"
      ]
     },
     "metadata": {},
     "output_type": "display_data"
    }
   ],
   "source": [
    "x = []\n",
    "for G in allG:\n",
    "    x.append(G.size())\n",
    "plt.scatter(x, allR)\n",
    "plt.savefig('edge_reward.png')"
   ]
  },
  {
   "cell_type": "markdown",
   "metadata": {
    "run_control": {
     "frozen": false,
     "read_only": false
    }
   },
   "source": [
    "#### 平均経路長"
   ]
  },
  {
   "cell_type": "code",
   "execution_count": 12,
   "metadata": {
    "run_control": {
     "frozen": false,
     "read_only": false
    }
   },
   "outputs": [
    {
     "name": "stdout",
     "output_type": "stream",
     "text": [
      "complete : 1.0\n",
      "random : 1.494949494949495\n",
      "grid 2d : 6.666666666666667\n",
      "watts strogatz : 1.494949494949495\n",
      "barabasi albert : 1.5757575757575757\n",
      "powerlaw cluster : 1.5086868686868686\n",
      "inner_dence_clustered : 2.5054545454545454\n"
     ]
    }
   ],
   "source": [
    "for n, G in zip(nameG, allG):\n",
    "    try:\n",
    "        print(n, \":\", graph_utils.average_shortest_path_length(G))\n",
    "    except:\n",
    "        print(n, \": Graph is not connected.\")"
   ]
  },
  {
   "cell_type": "code",
   "execution_count": 10,
   "metadata": {
    "run_control": {
     "frozen": false,
     "read_only": false
    }
   },
   "outputs": [
    {
     "data": {
      "image/png": "[encoded data removed]",
      "text/plain": [
       "<matplotlib.figure.Figure at 0x1170c3940>"
      ]
     },
     "metadata": {},
     "output_type": "display_data"
    }
   ],
   "source": [
    "x = []\n",
    "for G in allG:\n",
    "    x.append(graph_utils.average_shortest_path_length(G))\n",
    "plt.scatter(x, allR)\n",
    "plt.savefig('shortest_path_reward.png')"
   ]
  },
  {
   "cell_type": "markdown",
   "metadata": {
    "run_control": {
     "frozen": false,
     "read_only": false
    }
   },
   "source": [
    "#### クラスタリング係数"
   ]
  },
  {
   "cell_type": "code",
   "execution_count": 11,
   "metadata": {
    "run_control": {
     "frozen": false,
     "read_only": false
    }
   },
   "outputs": [
    {
     "name": "stdout",
     "output_type": "stream",
     "text": [
      "complete : 1.0\n",
      "random : 0.5031394188293861\n",
      "grid 2d : 0.0\n",
      "watts strogatz : 0.506698728903133\n",
      "barabasi albert : 0.5339375824942478\n",
      "powerlaw cluster : 0.6849337043198938\n",
      "inner_dence_clustered : 0.9344582909843777\n"
     ]
    }
   ],
   "source": [
    "for n, G in zip(nameG, allG):\n",
    "    print(n, \":\", graph_utils.average_clustering(G))"
   ]
  },
  {
   "cell_type": "code",
   "execution_count": 13,
   "metadata": {
    "run_control": {
     "frozen": false,
     "read_only": false
    }
   },
   "outputs": [
    {
     "data": {
      "image/png": "[encoded data removed]",
      "text/plain": [
       "<matplotlib.figure.Figure at 0x115f5a390>"
      ]
     },
     "metadata": {},
     "output_type": "display_data"
    }
   ],
   "source": [
    "x = []\n",
    "for G in allG:\n",
    "    x.append(graph_utils.average_clustering(G))\n",
    "plt.scatter(x, allR)\n",
    "plt.savefig('clustring_coefficient.png')"
   ]
  },
  {
   "cell_type": "markdown",
   "metadata": {
    "run_control": {
     "frozen": false,
     "read_only": false
    }
   },
   "source": [
    "#### 次数相関"
   ]
  },
  {
   "cell_type": "code",
   "execution_count": 9,
   "metadata": {
    "run_control": {
     "frozen": false,
     "read_only": false
    },
    "scrolled": true
   },
   "outputs": [
    {
     "name": "stdout",
     "output_type": "stream",
     "text": [
      "complete : nan\n",
      "random : -0.0234759793328\n",
      "grid 2d : 0.570610687023\n",
      "watts strogatz : 0.596475933851\n",
      "barabasi albert : -0.0112655910372\n",
      "powerlaw cluster : -0.191444979573\n",
      "inner_dence_clustered : -0.360698080343\n",
      "multiple_clustered : -0.10584916831\n",
      "sparse_clustered : -0.0154605951177\n"
     ]
    },
    {
     "name": "stderr",
     "output_type": "stream",
     "text": [
      "/Users/yamazakitakurou/.pyenv/versions/3.5.2/lib/python3.5/site-packages/scipy/stats/stats.py:3021: RuntimeWarning: invalid value encountered in double_scalars\n",
      "  r = r_num / r_den\n"
     ]
    }
   ],
   "source": [
    "for n, G in zip(nameG, allG):\n",
    "    print(n, \":\", graph_utils.assortativity(G))"
   ]
  },
  {
   "cell_type": "code",
   "execution_count": 14,
   "metadata": {
    "run_control": {
     "frozen": false,
     "read_only": false
    }
   },
   "outputs": [
    {
     "name": "stderr",
     "output_type": "stream",
     "text": [
      "/Users/yamazakitakurou/.pyenv/versions/3.5.2/lib/python3.5/site-packages/scipy/stats/stats.py:3021: RuntimeWarning: invalid value encountered in double_scalars\n",
      "  r = r_num / r_den\n"
     ]
    },
    {
     "data": {
      "image/png": "[encoded data removed]",
      "text/plain": [
       "<matplotlib.figure.Figure at 0x116419780>"
      ]
     },
     "metadata": {},
     "output_type": "display_data"
    }
   ],
   "source": [
    "x = []\n",
    "for G in allG:\n",
    "    x.append(graph_utils.assortativity(G))\n",
    "plt.scatter(x[1:], allR[1:])\n",
    "plt.savefig('assottatibity.png')"
   ]
  },
  {
   "cell_type": "markdown",
   "metadata": {
    "run_control": {
     "frozen": false,
     "read_only": false
    }
   },
   "source": [
    "#### 次数分布"
   ]
  },
  {
   "cell_type": "code",
   "execution_count": 10,
   "metadata": {
    "collapsed": true,
    "run_control": {
     "frozen": false,
     "read_only": false
    }
   },
   "outputs": [],
   "source": [
    "for n, G in zip(nameG, allG):\n",
    "    name = \"_\".join(n.split())\n",
    "    graph_utils.plot_degree_histogram(G,\"./fig/degree/\"+name+\".png\")"
   ]
  },
  {
   "cell_type": "code",
   "execution_count": 11,
   "metadata": {
    "collapsed": true,
    "run_control": {
     "frozen": false,
     "read_only": false
    }
   },
   "outputs": [],
   "source": [
    "for n, G in zip(nameG, allG):\n",
    "    name = \"_\".join(n.split())\n",
    "    graph_utils.plot_graph(G,\"./fig/network/\"+name+\".png\")"
   ]
  },
  {
   "cell_type": "markdown",
   "metadata": {
    "collapsed": true,
    "run_control": {
     "frozen": false,
     "read_only": false
    }
   },
   "source": [
    "#### 次数中心性"
   ]
  },
  {
   "cell_type": "code",
   "execution_count": 4,
   "metadata": {
    "collapsed": true,
    "run_control": {
     "frozen": false,
     "read_only": false
    }
   },
   "outputs": [],
   "source": [
    "pcG = nx.read_gpickle(\"../results/basic/q/powerlaw_cluster/prisoners_dilemma_g.gpickle\")\n",
    "pcR = pd.read_csv(\"../results/basic/q/powerlaw_cluster/prisoners_dilemma_action_table.csv\").iloc[-1]"
   ]
  },
  {
   "cell_type": "code",
   "execution_count": 6,
   "metadata": {
    "collapsed": true,
    "run_control": {
     "frozen": false,
     "read_only": false
    }
   },
   "outputs": [],
   "source": [
    "payoff = pd.DataFrame(np.array([[3, 0],[5, 1]]),index=list('cd'), columns=list('cd'))"
   ]
  },
  {
   "cell_type": "code",
   "execution_count": 7,
   "metadata": {
    "collapsed": true,
    "run_control": {
     "frozen": false,
     "read_only": false
    }
   },
   "outputs": [],
   "source": [
    "x = []\n",
    "hoge = nx.degree_centrality(pcG)\n",
    "for i in range(len(pcR)):\n",
    "    x.append(hoge[i])"
   ]
  },
  {
   "cell_type": "code",
   "execution_count": 5,
   "metadata": {
    "collapsed": true,
    "run_control": {
     "frozen": false,
     "read_only": false
    }
   },
   "outputs": [],
   "source": [
    "y = []\n",
    "for n in pcG.nodes():\n",
    "    neighbors = pcG.neighbors(n)\n",
    "    n_action = pcR[n]\n",
    "    n_reward = 0\n",
    "    for ne in neighbors:\n",
    "        ne_action = pcR[ne]\n",
    "        n_reward += payoff[ne_action][n_action]\n",
    "    y.append(n_reward/len(neighbors))"
   ]
  },
  {
   "cell_type": "code",
   "execution_count": 6,
   "metadata": {
    "run_control": {
     "frozen": false,
     "read_only": false
    }
   },
   "outputs": [
    {
     "data": {
      "text/plain": [
       "<matplotlib.collections.PathCollection at 0x108ba9ac8>"
      ]
     },
     "execution_count": 6,
     "metadata": {},
     "output_type": "execute_result"
    },
    {
     "data": {
      "image/png": "[encoded data removed]",
      "text/plain": [
       "<matplotlib.figure.Figure at 0x10d4bee80>"
      ]
     },
     "metadata": {},
     "output_type": "display_data"
    }
   ],
   "source": [
    "plt.scatter(x, y)\n",
    "plt.savefig(\"degree_centrarity.png\")"
   ]
  },
  {
   "cell_type": "code",
   "execution_count": 7,
   "metadata": {
    "collapsed": true,
    "run_control": {
     "frozen": false,
     "read_only": false
    }
   },
   "outputs": [],
   "source": [
    "x = []\n",
    "hoge = nx.betweenness_centrality(pcG)\n",
    "for i in range(len(pcR)):\n",
    "    x.append(hoge[i])"
   ]
  },
  {
   "cell_type": "code",
   "execution_count": 8,
   "metadata": {
    "run_control": {
     "frozen": false,
     "read_only": false
    }
   },
   "outputs": [
    {
     "data": {
      "text/plain": [
       "<matplotlib.collections.PathCollection at 0x10d6e0470>"
      ]
     },
     "execution_count": 8,
     "metadata": {},
     "output_type": "execute_result"
    },
    {
     "data": {
      "image/png": "[encoded data removed]",
      "text/plain": [
       "<matplotlib.figure.Figure at 0x10c6392b0>"
      ]
     },
     "metadata": {},
     "output_type": "display_data"
    }
   ],
   "source": [
    "plt.scatter(x, y)\n",
    "# plt.savefig(\"betweeness_centrarity.png\")"
   ]
  },
  {
   "cell_type": "code",
   "execution_count": 9,
   "metadata": {
    "collapsed": true,
    "run_control": {
     "frozen": false,
     "read_only": false
    }
   },
   "outputs": [],
   "source": [
    "x = []\n",
    "hoge = nx.closeness_centrality(pcG)\n",
    "for i in range(len(pcR)):\n",
    "    x.append(hoge[i])"
   ]
  },
  {
   "cell_type": "code",
   "execution_count": 10,
   "metadata": {
    "run_control": {
     "frozen": false,
     "read_only": false
    }
   },
   "outputs": [
    {
     "data": {
      "text/plain": [
       "<matplotlib.collections.PathCollection at 0x10fa02198>"
      ]
     },
     "execution_count": 10,
     "metadata": {},
     "output_type": "execute_result"
    },
    {
     "data": {
      "image/png": "[encoded data removed]",
      "text/plain": [
       "<matplotlib.figure.Figure at 0x111433cf8>"
      ]
     },
     "metadata": {},
     "output_type": "display_data"
    }
   ],
   "source": [
    "plt.scatter(x, y)\n",
    "plt.savefig(\"closeness_centrarity.png\")"
   ]
  },
  {
   "cell_type": "code",
   "execution_count": null,
   "metadata": {
    "collapsed": true,
    "run_control": {
     "frozen": false,
     "read_only": false
    }
   },
   "outputs": [],
   "source": []
  }
 ],
 "metadata": {
  "kernelspec": {
   "display_name": "Python 3",
   "language": "python",
   "name": "python3"
  },
  "language_info": {
   "codemirror_mode": {
    "name": "ipython",
    "version": 3
   },
   "file_extension": ".py",
   "mimetype": "text/x-python",
   "name": "python",
   "nbconvert_exporter": "python",
   "pygments_lexer": "ipython3",
   "version": "3.5.2"
  }
 },
 "nbformat": 4,
 "nbformat_minor": 2
}
