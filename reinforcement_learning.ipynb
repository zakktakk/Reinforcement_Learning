{
 "cells": [
  {
   "cell_type": "markdown",
   "metadata": {
    "collapsed": true,
    "deletable": true,
    "editable": true
   },
   "source": [
    "# 強化学習"
   ]
  },
  {
   "cell_type": "markdown",
   "metadata": {
    "deletable": true,
    "editable": true
   },
   "source": [
    "転移学習＋強化学習はいけるのでは？\n",
    "違うバックグラウンドの知識を持つエージェントが別のドメインに飛ばされた時どのような行動を見せるのか"
   ]
  },
  {
   "cell_type": "code",
   "execution_count": 1,
   "metadata": {
    "collapsed": false,
    "deletable": true,
    "editable": true
   },
   "outputs": [],
   "source": [
    "from __future__ import division\n",
    "import numpy as np\n",
    "import random\n",
    "import warnings\n",
    "import math\n",
    "import matplotlib.pyplot as plt\n",
    "%matplotlib inline\n",
    "import tqdm"
   ]
  },
  {
   "cell_type": "markdown",
   "metadata": {
    "deletable": true,
    "editable": true
   },
   "source": [
    "## 多腕バンディット問題"
   ]
  },
  {
   "cell_type": "markdown",
   "metadata": {
    "deletable": true,
    "editable": true
   },
   "source": [
    "### greedy algorithm"
   ]
  },
  {
   "cell_type": "code",
   "execution_count": 2,
   "metadata": {
    "collapsed": true,
    "deletable": true,
    "editable": true
   },
   "outputs": [],
   "source": [
    "#引数 -> dict {方策名(番号?), [プレイした回数,報酬の和]}\n",
    "#return -> 選択した方策\n",
    "def greedy(status_dict, n):\n",
    "    dict_keys = status_dict.keys()\n",
    "    play_num_ary = np.array([status_dict[key][0] for key in dict_keys])\n",
    "    if np.min(play_num_ary) < n:\n",
    "        return dict_keys[np.argmin(play_num_ary)]\n",
    "    else:\n",
    "        mu_lst = np.array([status_dict[key][1] / status_dict[key][0] for key in dict_keys])\n",
    "        return dict_keys[np.argmax(mu_lst)]"
   ]
  },
  {
   "cell_type": "markdown",
   "metadata": {
    "deletable": true,
    "editable": true
   },
   "source": [
    "### ε-greedy algorithm"
   ]
  },
  {
   "cell_type": "code",
   "execution_count": 3,
   "metadata": {
    "collapsed": false,
    "deletable": true,
    "editable": true
   },
   "outputs": [],
   "source": [
    "#引数 -> dict {方策名(番号?), [プレイした回数,報酬の和]}\n",
    "#return -> 選択した方策\n",
    "def eps_greedy(status_dict, eps):\n",
    "    dict_keys = status_dict.keys()\n",
    "    play_num_ary = np.array([status_dict[key][0] for key in dict_keys])\n",
    "    if np.min(play_num_ary) == 0:\n",
    "        return dict_keys[np.argmin(play_num_ary)]\n",
    "    if np.random.rand() <= eps:\n",
    "        return random.choice(np.array(dict_keys))\n",
    "    else:\n",
    "        mu_lst = np.array([status_dict[key][1] / status_dict[key][0] for key in dict_keys])\n",
    "        return dict_keys[np.argmax(mu_lst)]"
   ]
  },
  {
   "cell_type": "markdown",
   "metadata": {
    "deletable": true,
    "editable": true
   },
   "source": [
    "### 楽観的初期値法(optimistic initial values)"
   ]
  },
  {
   "cell_type": "code",
   "execution_count": 4,
   "metadata": {
    "collapsed": true,
    "deletable": true,
    "editable": true
   },
   "outputs": [],
   "source": [
    "#引数 -> dict {方策名(番号?), [プレイした回数,報酬の和]}, r_sup : 各腕からの報酬の上界\n",
    "#return -> 選択した方策\n",
    "def optimistic_init_val(status_dict, r_sup):\n",
    "    K = len(status_dict)\n",
    "    dict_keys = status_dict.keys()\n",
    "    mu_lst = np.array([(status_dict[key][1] + K * r_sup) / (status_dict[key][0] + K) for key in dict_keys])\n",
    "    return dict_keys[np.argmax(mu_lst)]"
   ]
  },
  {
   "cell_type": "markdown",
   "metadata": {
    "deletable": true,
    "editable": true
   },
   "source": [
    "### UCB1 (Upper Confidence Bound) algorithm"
   ]
  },
  {
   "cell_type": "code",
   "execution_count": 5,
   "metadata": {
    "collapsed": true,
    "deletable": true,
    "editable": true
   },
   "outputs": [],
   "source": [
    "#引数 -> dict {方策名(番号?), [プレイした回数,報酬の和]}, R : はらいもどしがくん最大値と最小値の差\n",
    "#return -> 選択した方策\n",
    "def UBC1(status_dict, R):\n",
    "    dict_keys = status_dict.keys()\n",
    "    play_num_ary = np.array([status_dict[key][0] for key in dict_keys])\n",
    "    if np.min(play_num_ary) == 0:\n",
    "        return dict_keys[np.argmin(play_num_ary)]\n",
    "    mu_lst = np.array([status_dict[key][1] / status_dict[key][0] for key in dict_keys])\n",
    "    U_bunshi = 2 * math.log(np.sum(play_num_ary))\n",
    "    U_lst = np.array([R * math.sqrt(U_bunshi / status_dict[key][0]) for key in dict_keys])\n",
    "    return dict_keys[np.argmax(mu_lst+U_lst)]  "
   ]
  },
  {
   "cell_type": "markdown",
   "metadata": {
    "deletable": true,
    "editable": true
   },
   "source": [
    "### スロットの定義"
   ]
  },
  {
   "cell_type": "code",
   "execution_count": 6,
   "metadata": {
    "collapsed": true,
    "deletable": true,
    "editable": true
   },
   "outputs": [],
   "source": [
    "#結果のプロットはmatplotlibのstackplotでできそう\n",
    "#prob_reward_lst -> [[0.8, 8], [0.2, 1]]\n",
    "class slot:\n",
    "    def __init__(self, name, prob_reward_lst):\n",
    "        self.name = name\n",
    "        self.prob_reward_lst = prob_reward_lst\n",
    "        self.played_num = 0\n",
    "        self.total_reward = 0\n",
    "        self.convert_pr_dict()\n",
    "        \n",
    "    def convert_pr_dict(self):\n",
    "        start = 0\n",
    "        self.pr_range = []\n",
    "        for ele in self.prob_reward_lst:\n",
    "            self.pr_range.append([[start, start+ele[0]], ele[1]])\n",
    "            start += ele[0]\n",
    "        if not start == 1: #もし確率が1出なかったらエラー\n",
    "            warnings.warn('Illegal reward function!!!')\n",
    "    \n",
    "    def turn(self):\n",
    "        self.played_num += 1\n",
    "        prob = np.random.rand()\n",
    "        for ele in self.pr_range:\n",
    "            #線形探索じゃなく2分探索とかしてもいいけどn自体が大きくないから無視\n",
    "            #境界だったらlistの先頭に近い方を優先 -> どっちかをランダム選択の方がいい？\n",
    "            if (ele[0][0] <= prob) and (prob <= ele[0][1]):\n",
    "                self.total_reward += ele[1]\n",
    "                return ele[1]\n",
    "        return None\n",
    "    \n",
    "    def get_name(self):\n",
    "        return self.name\n",
    "    \n",
    "    def get_status_dict(self):\n",
    "        return {self.name : [self.played_num, self.total_reward]}"
   ]
  },
  {
   "cell_type": "markdown",
   "metadata": {
    "deletable": true,
    "editable": true
   },
   "source": [
    "### ゲームの定義"
   ]
  },
  {
   "cell_type": "code",
   "execution_count": 7,
   "metadata": {
    "collapsed": false,
    "deletable": true,
    "editable": true
   },
   "outputs": [
    {
     "name": "stderr",
     "output_type": "stream",
     "text": [
      "100%|██████████| 10000/10000 [00:07<00:00, 1255.35it/s]\n"
     ]
    }
   ],
   "source": [
    "R = 20\n",
    "PLAY_NUM = 10000\n",
    "TIME_STEP = 100\n",
    "# arm_a  = slot(\"a\", [[0.3, R], [0.7, 0]])\n",
    "# arm_b  = slot(\"b\", [[0.59, R], [0.41, 0]])\n",
    "# arm_c  = slot(\"c\", [[0.52, R], [0.48, 0]])\n",
    "# arm_d  = slot(\"d\", [[0.55, R], [0.45, 0]])\n",
    "\n",
    "# arms_status_dict = {\"a\":[0,0],\"b\":[0,0],\"c\":[0,0],\"d\":[0,0]}\n",
    "\n",
    "selected_arms_percentage = [] #length:play_num\n",
    "average_rewards = [] #length:play_num\n",
    "\n",
    "arm_a  = slot(\"a\", [[0.2, R], [0.8, 0]])\n",
    "arm_b  = slot(\"b\", [[0.3, R], [0.7, 0]])\n",
    "arm_c  = slot(\"c\", [[0.4, R], [0.6, 0]])\n",
    "arm_d  = slot(\"d\", [[0.5, R], [0.5, 0]])\n",
    "\n",
    "for i in tqdm.tqdm(range(PLAY_NUM)):\n",
    "    selected_arms = {\"a\":0, \"b\":0, \"c\":0, \"d\":0}\n",
    "    arms_status_dict = {\"a\":[0,0],\"b\":[0,0],\"c\":[0,0],\"d\":[0,0]}\n",
    "    average_reward_per_time = 0.\n",
    "    for j in xrange(TIME_STEP):\n",
    "        selected_arm = optimistic_init_val(arms_status_dict, R) #多腕バンディットアルゴリズム\n",
    "        if selected_arm == 'a':\n",
    "            reward =  arm_a.turn()\n",
    "            arms_status_dict.update(arm_a.get_status_dict())\n",
    "\n",
    "        elif selected_arm == 'b':\n",
    "            reward =  arm_b.turn()\n",
    "            arms_status_dict.update(arm_b.get_status_dict())\n",
    "\n",
    "        elif selected_arm == 'c':\n",
    "            reward =  arm_c.turn()\n",
    "            arms_status_dict.update(arm_c.get_status_dict())\n",
    "\n",
    "        elif selected_arm == 'd':\n",
    "            reward =  arm_d.turn() \n",
    "            arms_status_dict.update(arm_d.get_status_dict())\n",
    "\n",
    "        selected_arms[selected_arm] = selected_arms[selected_arm] + 1\n",
    "        average_reward_per_time += reward\n",
    "        \n",
    "    average_reward_per_time /= TIME_STEP\n",
    "    average_rewards.append(average_reward_per_time)\n",
    "    selected_arms_percentage.append(np.array([selected_arms[\"a\"], selected_arms[\"b\"], selected_arms[\"c\"], selected_arms[\"d\"]]) / np. sum(np.array(selected_arms.values())))"
   ]
  },
  {
   "cell_type": "markdown",
   "metadata": {
    "deletable": true,
    "editable": true
   },
   "source": [
    "### 結果の描画"
   ]
  },
  {
   "cell_type": "code",
   "execution_count": 8,
   "metadata": {
    "collapsed": false,
    "deletable": true,
    "editable": true
   },
   "outputs": [
    {
     "data": {
      "image/png": "[encoded data removed]",
      "text/plain": [
       "<matplotlib.figure.Figure at 0x7f10fcb97f50>"
      ]
     },
     "metadata": {},
     "output_type": "display_data"
    }
   ],
   "source": [
    "selected_arms_percentage = np.array(selected_arms_percentage) * 100 #パーセントにキャスト\n",
    "x = np.arange(PLAY_NUM)\n",
    "# スタックプロット\n",
    "fig, ax = plt.subplots()\n",
    "ax.stackplot(x, selected_arms_percentage.T, labels=[\"a\",\"b\",\"c\",\"d\"])\n",
    "plt.legend()\n",
    "plt.title(\"Leaening Process of Bandit Algorithm\")\n",
    "plt.xlabel(\"Play Num\")\n",
    "plt.ylabel(\"Percentage to select each hands\")\n",
    "plt.show()"
   ]
  },
  {
   "cell_type": "markdown",
   "metadata": {
    "collapsed": true,
    "deletable": true,
    "editable": true
   },
   "source": [
    "## 割引報酬和"
   ]
  },
  {
   "cell_type": "code",
   "execution_count": null,
   "metadata": {
    "collapsed": true,
    "deletable": true,
    "editable": true
   },
   "outputs": [],
   "source": [
    "class finite_MDP:"
   ]
  }
 ],
 "metadata": {
  "kernelspec": {
   "display_name": "Python 2",
   "language": "python",
   "name": "python2"
  },
  "language_info": {
   "codemirror_mode": {
    "name": "ipython",
    "version": 2
   },
   "file_extension": ".py",
   "mimetype": "text/x-python",
   "name": "python",
   "nbconvert_exporter": "python",
   "pygments_lexer": "ipython2",
   "version": "2.7.12"
  }
 },
 "nbformat": 4,
 "nbformat_minor": 2
}
