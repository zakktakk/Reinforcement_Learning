{
 "cells": [
  {
   "cell_type": "markdown",
   "metadata": {
    "collapsed": true,
    "deletable": true,
    "editable": true
   },
   "source": [
    "# 強化学習"
   ]
  },
  {
   "cell_type": "code",
   "execution_count": 1,
   "metadata": {
    "collapsed": false,
    "deletable": true,
    "editable": true
   },
   "outputs": [],
   "source": [
    "from __future__ import division\n",
    "import numpy as np\n",
    "import random\n",
    "import warnings\n",
    "import pandas as pd\n",
    "import math\n",
    "import matplotlib.pyplot as plt\n",
    "plt.style.use('ggplot')\n",
    "%matplotlib inline\n",
    "import tqdm"
   ]
  },
  {
   "cell_type": "markdown",
   "metadata": {
    "deletable": true,
    "editable": true
   },
   "source": [
    "## 多腕バンディット問題"
   ]
  },
  {
   "cell_type": "markdown",
   "metadata": {
    "deletable": true,
    "editable": true
   },
   "source": [
    "### greedy algorithm"
   ]
  },
  {
   "cell_type": "code",
   "execution_count": 2,
   "metadata": {
    "collapsed": true,
    "deletable": true,
    "editable": true
   },
   "outputs": [],
   "source": [
    "def greedy(trials, rewards, n):\n",
    "    \"\"\"\n",
    "    @param trials each arm's trial num\n",
    "    @param rewards each arm's reward\n",
    "    @param n greedy algorithm parameter\n",
    "    @return selected arm position\n",
    "    \"\"\"\n",
    "    if np.min(trials) < n:\n",
    "        return np.argmin(trials)\n",
    "    else:\n",
    "        return np.argmax(rewards / trials)"
   ]
  },
  {
   "cell_type": "markdown",
   "metadata": {
    "deletable": true,
    "editable": true
   },
   "source": [
    "### ε-greedy algorithm"
   ]
  },
  {
   "cell_type": "code",
   "execution_count": 3,
   "metadata": {
    "collapsed": false,
    "deletable": true,
    "editable": true
   },
   "outputs": [],
   "source": [
    "def eps_greedy(trials, rewards, eps):\n",
    "    \"\"\"\n",
    "    @param trials each arm's trial num\n",
    "    @param rewards each arm's reward\n",
    "    @param eps ε-greedy algorithm parameter\n",
    "    @return selected arm position\n",
    "    \"\"\"\n",
    "    if np.min(trials) == 0:\n",
    "        return np.argmin(trials)\n",
    "    elif np.random.rand() < eps:\n",
    "        return np.random.randint(len(trials))\n",
    "    else:\n",
    "        return np.argmax(rewards / trials)"
   ]
  },
  {
   "cell_type": "markdown",
   "metadata": {
    "deletable": true,
    "editable": true
   },
   "source": [
    "### 楽観的初期値法(optimistic initial values)"
   ]
  },
  {
   "cell_type": "code",
   "execution_count": 4,
   "metadata": {
    "collapsed": true,
    "deletable": true,
    "editable": true
   },
   "outputs": [],
   "source": [
    "def optimistic_init_val(trials, rewards, r_sup):\n",
    "    \"\"\"\n",
    "    @param trials each arm's trial num\n",
    "    @param rewards each arm's reward\n",
    "    @param r_sup optimistic initial values algorithm parameter\n",
    "    @return selected arm position\n",
    "    \"\"\"\n",
    "    K = len(trials)\n",
    "    return np.argmax((trials+K*r_sup)/(reward+K))"
   ]
  },
  {
   "cell_type": "markdown",
   "metadata": {
    "deletable": true,
    "editable": true
   },
   "source": [
    "### UCB1 (Upper Confidence Bound) algorithm"
   ]
  },
  {
   "cell_type": "code",
   "execution_count": 5,
   "metadata": {
    "collapsed": true,
    "deletable": true,
    "editable": true
   },
   "outputs": [],
   "source": [
    "def UCB1(trials, rewards, R):\n",
    "    \"\"\"\n",
    "    @param trials each arm's trial num\n",
    "    @param rewards each arm's reward\n",
    "    @param R UCB1 algorithm parameter\n",
    "    @return selected arm position\n",
    "    \"\"\"\n",
    "    if np.min(trials) == 0:\n",
    "        return np.argmin(trials)\n",
    "    mu = rewards / trials\n",
    "    U = R * np.sqrt((2*np.log(np.sum(trials)))/trials)\n",
    "    return np.argmax(mu+U) "
   ]
  },
  {
   "cell_type": "markdown",
   "metadata": {
    "deletable": true,
    "editable": true
   },
   "source": [
    "### スロットの定義"
   ]
  },
  {
   "cell_type": "code",
   "execution_count": 10,
   "metadata": {
    "collapsed": false,
    "deletable": true,
    "editable": true
   },
   "outputs": [],
   "source": [
    "class slot(object):\n",
    "    def __init__(self, name, prob_reward_lst):\n",
    "        self.name = name\n",
    "        self.convert_pr_lst(prob_reward_lst)\n",
    "        \n",
    "    def convert_pr_lst(self, prob_reward_lst):\n",
    "        start = 0\n",
    "        self.pr_range = []\n",
    "        for ele in prob_reward_lst:\n",
    "            self.pr_range.append([[start, start+ele[0]], ele[1]])\n",
    "            start += ele[0]\n",
    "        if not start == 1: #もし確率が1出なかったらエラー\n",
    "            warnings.warn('Illegal reward function!!!')\n",
    "    \n",
    "    def turn(self):\n",
    "        prob = np.random.rand()\n",
    "        for ele in self.pr_range:\n",
    "            if (ele[0][0] <= prob) and (prob <= ele[0][1]):\n",
    "                return ele[1]"
   ]
  },
  {
   "cell_type": "markdown",
   "metadata": {
    "deletable": true,
    "editable": true
   },
   "source": [
    "### ゲームの定義"
   ]
  },
  {
   "cell_type": "code",
   "execution_count": 41,
   "metadata": {
    "collapsed": false,
    "deletable": true,
    "editable": true
   },
   "outputs": [
    {
     "name": "stderr",
     "output_type": "stream",
     "text": [
      "100%|██████████| 100/100 [00:31<00:00,  3.22it/s]\n"
     ]
    }
   ],
   "source": [
    "R = 20\n",
    "PLAY_NUM = 100\n",
    "TIME_STEP = 10000\n",
    "\n",
    "arm_a  = slot(\"a\", [[0.2, R], [0.8, 0]])\n",
    "arm_b  = slot(\"b\", [[0.3, R], [0.7, 0]])\n",
    "arm_c  = slot(\"c\", [[0.4, R], [0.6, 0]])\n",
    "arm_d  = slot(\"d\", [[0.5, R], [0.5, 0]])\n",
    "\n",
    "arms = np.array([arm_a, arm_b, arm_c, arm_d])\n",
    "average_rewards = np.zeros(TIME_STEP) #length TIME_STEP\n",
    "selected_arms = np.zeros((TIME_STEP, len(arms))) #length len(arms) * TIME_STEP\n",
    "\n",
    "for i in tqdm.tqdm(range(PLAY_NUM)):\n",
    "    trials = np.zeros(len(arms))\n",
    "    rewards = np.zeros(len(arms))\n",
    "    \n",
    "    for j in xrange(TIME_STEP):\n",
    "        arm = UCB1(trials, rewards, R) #多腕バンディットアルゴリズム\n",
    "        reward = arms[arm].turn()\n",
    "        trials[arm] += 1\n",
    "        rewards[arm] += reward\n",
    "        selected_arms[j, arm] += 1\n",
    "        average_rewards[j] += reward\n",
    "        \n",
    "average_rewards = np.array(average_rewards) / PLAY_NUM\n",
    "selected_arms = np.array(selected_arms) / PLAY_NUM"
   ]
  },
  {
   "cell_type": "markdown",
   "metadata": {
    "deletable": true,
    "editable": true
   },
   "source": [
    "### 結果の描画"
   ]
  },
  {
   "cell_type": "code",
   "execution_count": 42,
   "metadata": {
    "collapsed": false,
    "deletable": true,
    "editable": true
   },
   "outputs": [
    {
     "data": {
      "image/png": "[encoded data removed]",
      "text/plain": [
       "<matplotlib.figure.Figure at 0x7ffa5085a490>"
      ]
     },
     "metadata": {},
     "output_type": "display_data"
    }
   ],
   "source": [
    "selected_arms = np.array(selected_arms) * 100 #パーセントにキャスト\n",
    "x = np.arange(TIME_STEP)\n",
    "# スタックプロット\n",
    "fig, ax = plt.subplots()\n",
    "ax.stackplot(x, selected_arms.T, labels=[\"a\",\"b\",\"c\",\"d\"])\n",
    "plt.legend()\n",
    "plt.title(\"Leaening Process of Bandit Algorithm\")\n",
    "plt.xlabel(\"Time steps\")\n",
    "plt.ylabel(\"Percentage to select each hands\")\n",
    "plt.show()"
   ]
  },
  {
   "cell_type": "markdown",
   "metadata": {
    "collapsed": true,
    "deletable": true,
    "editable": true
   },
   "source": [
    "## 割引報酬和"
   ]
  },
  {
   "cell_type": "code",
   "execution_count": null,
   "metadata": {
    "collapsed": true,
    "deletable": true,
    "editable": true
   },
   "outputs": [],
   "source": [
    "class finite_MDP:"
   ]
  }
 ],
 "metadata": {
  "kernelspec": {
   "display_name": "Python 2",
   "language": "python",
   "name": "python2"
  },
  "language_info": {
   "codemirror_mode": {
    "name": "ipython",
    "version": 2
   },
   "file_extension": ".py",
   "mimetype": "text/x-python",
   "name": "python",
   "nbconvert_exporter": "python",
   "pygments_lexer": "ipython2",
   "version": "2.7.12"
  }
 },
 "nbformat": 4,
 "nbformat_minor": 2
}
