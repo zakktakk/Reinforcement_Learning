{
 "cells": [
  {
   "cell_type": "markdown",
   "metadata": {
    "collapsed": true,
    "deletable": true,
    "editable": true
   },
   "source": [
    "# 強化学習"
   ]
  },
  {
   "cell_type": "code",
   "execution_count": 3,
   "metadata": {
    "collapsed": false,
    "deletable": true,
    "editable": true
   },
   "outputs": [],
   "source": [
    "from __future__ import division\n",
    "import numpy as np\n",
    "import random\n",
    "import warnings\n",
    "import gym\n",
    "import math\n",
    "import matplotlib.pyplot as plt\n",
    "%matplotlib inline\n",
    "import seaborn"
   ]
  },
  {
   "cell_type": "markdown",
   "metadata": {
    "deletable": true,
    "editable": true
   },
   "source": [
    "## 多腕バンディット問題"
   ]
  },
  {
   "cell_type": "markdown",
   "metadata": {
    "deletable": true,
    "editable": true
   },
   "source": [
    "### greedy algorithm"
   ]
  },
  {
   "cell_type": "code",
   "execution_count": 6,
   "metadata": {
    "collapsed": true,
    "deletable": true,
    "editable": true
   },
   "outputs": [],
   "source": [
    "#引数 -> dict {方策名(番号?), [プレイした回数,報酬の和]}\n",
    "#return -> 選択した方策\n",
    "def greedy(status_dict, n):\n",
    "    dict_keys = status_dict.keys()\n",
    "    play_num_ary = np.array([status_dict[key][0] for key in dict_keys])\n",
    "    if np.min(play_num_ary) < n:\n",
    "        return play_num_ary[np.argmin(play_num_ary)]\n",
    "    else:\n",
    "        mu_lst = np.array([status_dict[key][1] / status_dict[key][0] for key in dict_keys])\n",
    "        return dict_keys[np.argmax(mu_lst)]"
   ]
  },
  {
   "cell_type": "markdown",
   "metadata": {
    "deletable": true,
    "editable": true
   },
   "source": [
    "### ε-greedy algorithm"
   ]
  },
  {
   "cell_type": "code",
   "execution_count": 59,
   "metadata": {
    "collapsed": false,
    "deletable": true,
    "editable": true
   },
   "outputs": [],
   "source": [
    "#引数 -> dict {方策名(番号?), [プレイした回数,報酬の和]}\n",
    "#return -> 選択した方策\n",
    "def eps_greedy(status_dict, eps):\n",
    "    dict_keys = status_dict.keys()\n",
    "    play_num_ary = np.array([status_dict[key][0] for key in dict_keys])\n",
    "    if np.min(play_num_ary) == 0:\n",
    "        return dict_keys[np.argmin(play_num_ary)]\n",
    "    if np.random.rand() <= eps:\n",
    "        return random.choice(np.array(dict_keys))\n",
    "    else:\n",
    "        mu_lst = np.array([status_dict[key][1] / status_dict[key][0] for key in dict_keys])\n",
    "        return dict_keys[np.argmax(mu_lst)]"
   ]
  },
  {
   "cell_type": "markdown",
   "metadata": {
    "deletable": true,
    "editable": true
   },
   "source": [
    "### 楽観的初期値法(optimistic initial values)"
   ]
  },
  {
   "cell_type": "code",
   "execution_count": 6,
   "metadata": {
    "collapsed": true,
    "deletable": true,
    "editable": true
   },
   "outputs": [],
   "source": [
    "#引数 -> dict {方策名(番号?), [プレイした回数,報酬の和]}, r_sup : 各腕からの報酬の上界, K : r_supが観測された(見積もり)回数\n",
    "#return -> 選択した方策\n",
    "def optimistic_init_val(status_dict, r_sup, K=1):\n",
    "    dict_keys = status_dict.keys()\n",
    "    print dict_keys\n",
    "    mu_lst = np.array([(status_dict[key][1] + K * r_sup) / (status_dict[key][0] + K) for key in dict_keys])\n",
    "    print mu_lst\n",
    "    return dict_keys[np.argmax(mu_lst)]"
   ]
  },
  {
   "cell_type": "markdown",
   "metadata": {
    "deletable": true,
    "editable": true
   },
   "source": [
    "### UCB1 (Upper Confidence Bound) algorithm"
   ]
  },
  {
   "cell_type": "code",
   "execution_count": 13,
   "metadata": {
    "collapsed": true,
    "deletable": true,
    "editable": true
   },
   "outputs": [],
   "source": [
    "#引数 -> dict {方策名(番号?), [プレイした回数,報酬の和]}, R : はらいもどしがくん最大値と最小値の差\n",
    "#return -> 選択した方策\n",
    "def UBC1(status_dict, R):\n",
    "    dict_keys = status_dict.keys()\n",
    "    play_num_ary = np.array([status_dict[key][0] for key in dict_keys])\n",
    "    if np.min(play_num_ary) == 0:\n",
    "        return dict_keys[np.argmin(play_num_ary)]\n",
    "    mu_lst = np.array([status_dict[key][1] / status_dict[key][0] for key in dict_keys])\n",
    "    U_bunshi = 2 * math.log(np.sum(play_num_ary))\n",
    "    U_lst = np.array([R * math.sqrt(U_bunshi / status_dict[key][0]) for key in dict_keys])\n",
    "    return dict_keys[np.argmax(mu_lst+U_lst)]  "
   ]
  },
  {
   "cell_type": "markdown",
   "metadata": {},
   "source": [
    "### スロットの定義"
   ]
  },
  {
   "cell_type": "code",
   "execution_count": null,
   "metadata": {
    "collapsed": true,
    "deletable": true,
    "editable": true
   },
   "outputs": [],
   "source": [
    "#結果のプロットはmatplotlibのstackplotでできそう\n",
    "#prob_reward_lst -> [[0.8, 8], [0.2, 1]]\n",
    "class slot:\n",
    "    def __init__(self, name, prob_reward_lst):\n",
    "        self.name = name\n",
    "        self.prob_reward_lst = prob_reward_lst\n",
    "        self.played_num = 0\n",
    "        self.total_reward = 0\n",
    "        \n",
    "    def convert_pr_dict(self):\n",
    "        start = 0\n",
    "        self.pr_range = []\n",
    "        for ele in self.prob_reward_lst:\n",
    "            self.pr_range.append([[start, start+ele[0]], ele[1]])\n",
    "            start += ele[0]\n",
    "        if not start == 1: #もし確率が1出なかったらエラー\n",
    "            warnings.warn('Illegal reward function!!!')\n",
    "    \n",
    "    def turn(self):\n",
    "        self.played_num += 1\n",
    "        prob = np.random.rand()\n",
    "        for ele in self.prob_reward_lst:\n",
    "            #線形探索じゃなく2分探索とかしてもいいけどn自体が大きくないから無視\n",
    "            #境界だったらlistの先頭に近い方を優先 -> どっちかをランダム選択の方がいい？\n",
    "            if (ele[0][0] <= prob) and (prob <= ele[0][1]):\n",
    "                self.total_reward += ele[1]\n",
    "                return ele[1]\n",
    "        return None\n",
    "    \n",
    "    def get_name(self):\n",
    "        return self.name\n",
    "    \n",
    "    def get_status_dict(self):\n",
    "        return {self.name : [self.played_num, self.total_reward]}"
   ]
  },
  {
   "cell_type": "markdown",
   "metadata": {},
   "source": [
    "### ゲームの定義"
   ]
  },
  {
   "cell_type": "code",
   "execution_count": null,
   "metadata": {
    "collapsed": true
   },
   "outputs": [],
   "source": [
    "R = 20\n",
    "PLAY_NUM = 1000\n",
    "TIME_STEP = 1000\n",
    "arm_a  = slot(\"a\", [[0.2, R], [0.8, 0]])\n",
    "arm_b  = slot(\"b\", [[0.3, R], [0.7, 0]])\n",
    "arm_c  = slot(\"c\", [[0.4, R], [0.6, 0]])\n",
    "arm_d  = slot(\"d\", [[0.5, R], [0.5, 0]])\n",
    "\n",
    "arms_status_dict = {}\n",
    "\n",
    "for arm in arms_lst: #armのstatus dictの初期化\n",
    "    arms_status_dict.updata(arm.get_status_dict)\n",
    "\n",
    "selected_arms_percentage = [] #length:play_num\n",
    "average_rewords = [] #length:play_num\n",
    "\n",
    "for i in xrange(PLAY_NUM):\n",
    "    selected_arms = {\"a\":0, \"b\":0, \"c\":0, \"d\":0}\n",
    "    average_reward_per_time = 0\n",
    "    for j in xrange(TIME_STEP):\n",
    "        selected_arm = greedy(arms_status_dict, 10)\n",
    "        if selected_arm == 'a':\n",
    "            reward =  arm_a.turn()\n",
    "            arms_status_dict.update(arm_a.get_status_dict)\n",
    "\n",
    "        elif selected_arm == 'b':\n",
    "            reward =  arm_b.turn()\n",
    "            arms_status_dict.update(arm_b.get_status_dict)\n",
    "\n",
    "        elif selected_arm == 'c':\n",
    "            reward =  arm_c.turn()\n",
    "            arms_status_dict.update(arm_c.get_status_dict)\n",
    "\n",
    "        elif selected_arm == 'd':\n",
    "            reward =  arm_d.turn()\n",
    "            arms_status_dict.update(arm_d.get_status_dict)\n",
    "\n",
    "        selected_arms.append(selected_arm)\n",
    "        average_reward_per_time += reward\n",
    "        \n",
    "    average_reward_per_time /= TIME_STEP\n",
    "    average_rewards.append(average_reward_per_time)\n",
    "    selected_arms_percentage"
   ]
  }
 ],
 "metadata": {
  "kernelspec": {
   "display_name": "Python 2",
   "language": "python",
   "name": "python2"
  },
  "language_info": {
   "codemirror_mode": {
    "name": "ipython",
    "version": 2
   },
   "file_extension": ".py",
   "mimetype": "text/x-python",
   "name": "python",
   "nbconvert_exporter": "python",
   "pygments_lexer": "ipython2",
   "version": "2.7.12"
  }
 },
 "nbformat": 4,
 "nbformat_minor": 2
}
