{
 "cells": [
  {
   "cell_type": "markdown",
   "metadata": {
    "collapsed": true,
    "deletable": true,
    "editable": true,
    "run_control": {
     "frozen": false,
     "read_only": false
    }
   },
   "source": [
    "# 強化学習\n",
    "### 懸案すべき事項\n",
    "- 果たしてネットワークを入れることは有用なのか\n",
    "- ゲーム理論を導入した研究は他にないか\n",
    "- 基礎研究->具体例の流れにしたいが，妥当な問題は何か\n",
    "- 全員が強化学習エージェントであるべきか？ヒューリスティックエージェントを入れるべきではないか？利己的など"
   ]
  },
  {
   "cell_type": "code",
   "execution_count": 125,
   "metadata": {
    "collapsed": false,
    "deletable": true,
    "editable": true,
    "run_control": {
     "frozen": false,
     "read_only": false
    }
   },
   "outputs": [],
   "source": [
    "# from __future__ import division\n",
    "import numpy as np\n",
    "import random\n",
    "import collections\n",
    "import warnings\n",
    "import networkx as nx\n",
    "import pandas as pd\n",
    "import math\n",
    "import matplotlib.pyplot as plt\n",
    "plt.style.use('ggplot')\n",
    "%matplotlib inline\n",
    "from tqdm import tqdm"
   ]
  },
  {
   "cell_type": "markdown",
   "metadata": {
    "deletable": true,
    "editable": true,
    "run_control": {
     "frozen": false,
     "read_only": false
    }
   },
   "source": [
    "## 多腕バンディット問題"
   ]
  },
  {
   "cell_type": "markdown",
   "metadata": {
    "deletable": true,
    "editable": true,
    "run_control": {
     "frozen": false,
     "read_only": false
    }
   },
   "source": [
    "### greedy algorithm"
   ]
  },
  {
   "cell_type": "code",
   "execution_count": 2,
   "metadata": {
    "collapsed": true,
    "deletable": true,
    "editable": true,
    "run_control": {
     "frozen": false,
     "read_only": false
    }
   },
   "outputs": [],
   "source": [
    "def greedy(trials, rewards, n):\n",
    "    \"\"\"\n",
    "    @param trials each arm's trial num\n",
    "    @param rewards each arm's reward\n",
    "    @param n greedy algorithm parameter\n",
    "    @return selected arm position\n",
    "    \"\"\"\n",
    "    if np.min(trials) < n:\n",
    "        return np.argmin(trials)\n",
    "    else:\n",
    "        return np.argmax(rewards / trials)"
   ]
  },
  {
   "cell_type": "markdown",
   "metadata": {
    "deletable": true,
    "editable": true,
    "run_control": {
     "frozen": false,
     "read_only": false
    }
   },
   "source": [
    "### ε-greedy algorithm"
   ]
  },
  {
   "cell_type": "code",
   "execution_count": 3,
   "metadata": {
    "collapsed": false,
    "deletable": true,
    "editable": true,
    "run_control": {
     "frozen": false,
     "read_only": false
    }
   },
   "outputs": [],
   "source": [
    "def eps_greedy(trials, rewards, eps):\n",
    "    \"\"\"\n",
    "    @param trials each arm's trial num\n",
    "    @param rewards each arm's reward\n",
    "    @param eps ε-greedy algorithm parameter\n",
    "    @return selected arm position\n",
    "    \"\"\"\n",
    "    if np.min(trials) == 0:\n",
    "        return np.argmin(trials)\n",
    "    elif np.random.rand() < eps:\n",
    "        return np.random.randint(len(trials))\n",
    "    else:\n",
    "        return np.argmax(rewards / trials)"
   ]
  },
  {
   "cell_type": "markdown",
   "metadata": {
    "deletable": true,
    "editable": true,
    "run_control": {
     "frozen": false,
     "read_only": false
    }
   },
   "source": [
    "### 楽観的初期値法(optimistic initial values)"
   ]
  },
  {
   "cell_type": "code",
   "execution_count": 4,
   "metadata": {
    "collapsed": true,
    "deletable": true,
    "editable": true,
    "run_control": {
     "frozen": false,
     "read_only": false
    }
   },
   "outputs": [],
   "source": [
    "def optimistic_init_val(trials, rewards, r_sup):\n",
    "    \"\"\"\n",
    "    @param trials each arm's trial num\n",
    "    @param rewards each arm's reward\n",
    "    @param r_sup optimistic initial values algorithm parameter\n",
    "    @return selected arm position\n",
    "    \"\"\"\n",
    "    K = len(trials)\n",
    "    return np.argmax((trials+K*r_sup)/(reward+K))"
   ]
  },
  {
   "cell_type": "markdown",
   "metadata": {
    "deletable": true,
    "editable": true,
    "run_control": {
     "frozen": false,
     "read_only": false
    }
   },
   "source": [
    "### UCB1 (Upper Confidence Bound) algorithm"
   ]
  },
  {
   "cell_type": "code",
   "execution_count": 5,
   "metadata": {
    "collapsed": true,
    "deletable": true,
    "editable": true,
    "run_control": {
     "frozen": false,
     "read_only": false
    }
   },
   "outputs": [],
   "source": [
    "def UCB1(trials, rewards, R):\n",
    "    \"\"\"\n",
    "    @param trials each arm's trial num\n",
    "    @param rewards each arm's reward\n",
    "    @param R UCB1 algorithm parameter\n",
    "    @return selected arm position\n",
    "    \"\"\"\n",
    "    if np.min(trials) == 0:\n",
    "        return np.argmin(trials)\n",
    "    mu = rewards / trials\n",
    "    U = R * np.sqrt((2*np.log(np.sum(trials)))/trials)\n",
    "    return np.argmax(mu+U) "
   ]
  },
  {
   "cell_type": "markdown",
   "metadata": {
    "deletable": true,
    "editable": true,
    "run_control": {
     "frozen": false,
     "read_only": false
    }
   },
   "source": [
    "### スロットの定義"
   ]
  },
  {
   "cell_type": "code",
   "execution_count": 10,
   "metadata": {
    "collapsed": false,
    "deletable": true,
    "editable": true,
    "run_control": {
     "frozen": false,
     "read_only": false
    }
   },
   "outputs": [],
   "source": [
    "class slot(object):\n",
    "    def __init__(self, name, prob_reward_lst):\n",
    "        self.name = name\n",
    "        self.convert_pr_lst(prob_reward_lst)\n",
    "        \n",
    "    def convert_pr_lst(self, prob_reward_lst):\n",
    "        start = 0\n",
    "        self.pr_range = []\n",
    "        for ele in prob_reward_lst:\n",
    "            self.pr_range.append([[start, start+ele[0]], ele[1]])\n",
    "            start += ele[0]\n",
    "        if not start == 1: #もし確率が1出なかったらエラー\n",
    "            warnings.warn('Illegal reward function!!!')\n",
    "    \n",
    "    def turn(self):\n",
    "        prob = np.random.rand()\n",
    "        for ele in self.pr_range:\n",
    "            if (ele[0][0] <= prob) and (prob <= ele[0][1]):\n",
    "                return ele[1]"
   ]
  },
  {
   "cell_type": "markdown",
   "metadata": {
    "deletable": true,
    "editable": true,
    "run_control": {
     "frozen": false,
     "read_only": false
    }
   },
   "source": [
    "### ゲームの定義"
   ]
  },
  {
   "cell_type": "code",
   "execution_count": 41,
   "metadata": {
    "collapsed": false,
    "deletable": true,
    "editable": true,
    "run_control": {
     "frozen": false,
     "read_only": false
    }
   },
   "outputs": [
    {
     "name": "stderr",
     "output_type": "stream",
     "text": [
      "100%|██████████| 100/100 [00:31<00:00,  3.22it/s]\n"
     ]
    }
   ],
   "source": [
    "R = 20\n",
    "PLAY_NUM = 100\n",
    "TIME_STEP = 10000\n",
    "\n",
    "arm_a  = slot(\"a\", [[0.2, R], [0.8, 0]])\n",
    "arm_b  = slot(\"b\", [[0.3, R], [0.7, 0]])\n",
    "arm_c  = slot(\"c\", [[0.4, R], [0.6, 0]])\n",
    "arm_d  = slot(\"d\", [[0.5, R], [0.5, 0]])\n",
    "\n",
    "arms = np.array([arm_a, arm_b, arm_c, arm_d])\n",
    "average_rewards = np.zeros(TIME_STEP) #length TIME_STEP\n",
    "selected_arms = np.zeros((TIME_STEP, len(arms))) #length len(arms) * TIME_STEP\n",
    "\n",
    "for i in tqdm.tqdm(range(PLAY_NUM)):\n",
    "    trials = np.zeros(len(arms))\n",
    "    rewards = np.zeros(len(arms))\n",
    "    \n",
    "    for j in xrange(TIME_STEP):\n",
    "        arm = UCB1(trials, rewards, R) #多腕バンディットアルゴリズム\n",
    "        reward = arms[arm].turn()\n",
    "        trials[arm] += 1\n",
    "        rewards[arm] += reward\n",
    "        selected_arms[j, arm] += 1\n",
    "        average_rewards[j] += reward\n",
    "        \n",
    "average_rewards = np.array(average_rewards) / PLAY_NUM\n",
    "selected_arms = np.array(selected_arms) / PLAY_NUM"
   ]
  },
  {
   "cell_type": "markdown",
   "metadata": {
    "deletable": true,
    "editable": true,
    "run_control": {
     "frozen": false,
     "read_only": false
    }
   },
   "source": [
    "### 結果の描画"
   ]
  },
  {
   "cell_type": "code",
   "execution_count": 42,
   "metadata": {
    "collapsed": false,
    "deletable": true,
    "editable": true,
    "run_control": {
     "frozen": false,
     "read_only": false
    }
   },
   "outputs": [
    {
     "data": {
      "image/png": "[encoded data removed]",
      "text/plain": [
       "<matplotlib.figure.Figure at 0x7ffa5085a490>"
      ]
     },
     "metadata": {},
     "output_type": "display_data"
    }
   ],
   "source": [
    "selected_arms = np.array(selected_arms) * 100 #パーセントにキャスト\n",
    "x = np.arange(TIME_STEP)\n",
    "# スタックプロット\n",
    "fig, ax = plt.subplots()\n",
    "ax.stackplot(x, selected_arms.T, labels=[\"a\",\"b\",\"c\",\"d\"])\n",
    "plt.legend()\n",
    "plt.title(\"Leaening Process of Bandit Algorithm\")\n",
    "plt.xlabel(\"Time steps\")\n",
    "plt.ylabel(\"Percentage to select each hands\")\n",
    "plt.show()"
   ]
  },
  {
   "cell_type": "markdown",
   "metadata": {
    "collapsed": true,
    "deletable": true,
    "editable": true,
    "run_control": {
     "frozen": false,
     "read_only": false
    }
   },
   "source": [
    "## シングルエージェント強化学習"
   ]
  },
  {
   "cell_type": "markdown",
   "metadata": {
    "deletable": true,
    "editable": true,
    "run_control": {
     "frozen": false,
     "read_only": false
    }
   },
   "source": [
    "### 環境構築"
   ]
  },
  {
   "cell_type": "code",
   "execution_count": 21,
   "metadata": {
    "collapsed": false,
    "deletable": true,
    "editable": true,
    "run_control": {
     "frozen": false,
     "read_only": false
    }
   },
   "outputs": [],
   "source": [
    "A = np.array([\"入口に戻る\", \"東\", \"西\"])\n",
    "S = np.array([\"山賊\",\"湖\",\"入口\",\"森\",\"宝\"])\n",
    "#R(s,a,s′): ここは問題によって引数も値も変わる．今回は遷移先の状態のみを見る\n",
    "reward = {\"山賊\":-10,\"湖\":0,\"入口\":0,\"森\":0,\"宝\":10}\n",
    "#遷移テーブル\n",
    "ENV = pd.DataFrame({\"入口に戻る\": [\"入口\", np.NaN, np.NaN, np.NaN,\"入口\"], \"東\":[np.NaN,\"入口\",\"森\",\"宝\", np.NaN], \"西\":[np.NaN,\"山賊\",\"湖\",\"入口\", np.NaN]}, index=S)"
   ]
  },
  {
   "cell_type": "markdown",
   "metadata": {
    "deletable": true,
    "editable": true,
    "run_control": {
     "frozen": false,
     "read_only": false
    }
   },
   "source": [
    "### 行動選択手法\n",
    "ref : マルチエージェント学習 p.28 高玉圭樹"
   ]
  },
  {
   "cell_type": "code",
   "execution_count": 22,
   "metadata": {
    "collapsed": false,
    "deletable": true,
    "editable": true,
    "run_control": {
     "frozen": false,
     "read_only": false
    }
   },
   "outputs": [],
   "source": [
    "#グリーディ方策\n",
    "def greedy(q_row):\n",
    "    \"\"\"\n",
    "    @param q_row q_table row of object state s\n",
    "    @return selected action arg\n",
    "    \"\"\"\n",
    "    return np.nanargmax(q_row)"
   ]
  },
  {
   "cell_type": "code",
   "execution_count": 23,
   "metadata": {
    "collapsed": true,
    "deletable": true,
    "editable": true,
    "run_control": {
     "frozen": false,
     "read_only": false
    }
   },
   "outputs": [],
   "source": [
    "#イプシロングリーディ方策\n",
    "def eps_greedy(q_row, eps=0.1):\n",
    "    \"\"\"\n",
    "    @param q_row q_table row of object state s\n",
    "    @param eps random probability parameter\n",
    "    @return selected action arg\n",
    "    \"\"\"\n",
    "    prob = np.random.rand()\n",
    "    if prob <= eps:\n",
    "        return np.random.choice(np.where(np.invert(np.isnan(q_row)))[0])\n",
    "    else:\n",
    "        return np.nanargmax(q_row)"
   ]
  },
  {
   "cell_type": "code",
   "execution_count": 24,
   "metadata": {
    "collapsed": false,
    "deletable": true,
    "editable": true,
    "run_control": {
     "frozen": false,
     "read_only": false
    }
   },
   "outputs": [],
   "source": [
    "#ボルツマンソフトマックス方策\n",
    "def softmax_boltzman(q_row, T=1.0):\n",
    "    \"\"\"\n",
    "    @param q_row q_table row of object state s\n",
    "    @param T temperature parameter\n",
    "    @return selected action arg\n",
    "    \"\"\"\n",
    "    obj = np.arange(len(q_row))[np.invert(np.isnan(q_row))]\n",
    "    q_row = q_row[np.invert(np.isnan(q_row))]\n",
    "    #TODO Tの温度管理を実装\n",
    "    return np.random.choice(obj, p=(np.exp(q_row / T))/np.sum(np.exp(q_row / T)))"
   ]
  },
  {
   "cell_type": "code",
   "execution_count": 25,
   "metadata": {
    "collapsed": true,
    "deletable": true,
    "editable": true,
    "run_control": {
     "frozen": false,
     "read_only": false
    }
   },
   "outputs": [],
   "source": [
    "#ルーレットソフトマックス方策\n",
    "#Q値がマイナスをとるときは適用不可能\n",
    "def softmax_roulette(q_row):\n",
    "    \"\"\"\n",
    "    @param q_row q_table row of object state s\n",
    "    @return selected action arg\n",
    "    \"\"\"\n",
    "    obj = np.arange(len(q_row))[np.invert(np.isnan(q_row))]\n",
    "    q_row = q_row[np.invert(np.isnan(q_row))]\n",
    "    return np.random.choice(obj, p=q_row / np.sum(q_row))"
   ]
  },
  {
   "cell_type": "code",
   "execution_count": 26,
   "metadata": {
    "collapsed": true,
    "deletable": true,
    "editable": true,
    "run_control": {
     "frozen": false,
     "read_only": false
    }
   },
   "outputs": [],
   "source": [
    "#ランダム方策\n",
    "def random_select(q_row):\n",
    "    \"\"\"\n",
    "    @param q_row q_table row of object state s\n",
    "    @return selected action arg\n",
    "    \"\"\"\n",
    "    obj = np.arange(len(q_row))[np.invert(np.isnan(q_row))]\n",
    "    return np.random.choice(obj)"
   ]
  },
  {
   "cell_type": "markdown",
   "metadata": {
    "deletable": true,
    "editable": true,
    "run_control": {
     "frozen": false,
     "read_only": false
    }
   },
   "source": [
    "### 学習手法(ブートストラップ型学習)\n",
    "ref : マルチエージェント学習 p.35 高玉圭樹"
   ]
  },
  {
   "cell_type": "code",
   "execution_count": 30,
   "metadata": {
    "collapsed": false,
    "deletable": true,
    "editable": true,
    "run_control": {
     "frozen": false,
     "read_only": false
    }
   },
   "outputs": [],
   "source": [
    "#Q学習\n",
    "def q_learning(S, A, s_0, s_t, n_iter=1000):\n",
    "    \"\"\"\n",
    "    @param S state set\n",
    "    @param A action set\n",
    "    @param s_0 initial state\n",
    "    @param s_t terminal state\n",
    "    @param n_iter iteration number\n",
    "    @return reward list of each timestep\n",
    "    @return q value table\n",
    "    \"\"\"\n",
    "    gamma = 0.9\n",
    "    #initialize q_table\n",
    "    q_table = ENV.copy()\n",
    "    q_table[q_table.notnull()] = 1\n",
    "    #q_table = pd.DataFrame(np.ones(len(S), len(A)), index=S, columns=A) #optimistic initial value\n",
    "    #q_table = pd.DataFrame(np.ones(len(S), len(A)) * (-1), index=S, columns=A) #pessimistic initial value\n",
    "    reward_lst = []\n",
    "    for k in range(n_iter):\n",
    "        alpha = 1/(k+1) #0.1\n",
    "        s = s_0\n",
    "        total_r = 0\n",
    "        while not s == s_t:\n",
    "            a_arg = softmax_boltzman(np.array(q_table.loc[s].copy(), dtype=np.float64), T=1.5)\n",
    "            a = A[a_arg]\n",
    "            s_next = ENV[a][np.where(S==s)[0][0]]\n",
    "            r = reward[s_next] - 1\n",
    "            total_r += r\n",
    "            q_table[a][s] += alpha * (r + gamma * np.nanmax(np.array(q_table.loc[s_next], dtype=np.float64)) - q_table[a][s])\n",
    "            s = s_next\n",
    "        reward_lst.append(total_r)\n",
    "    return reward_lst, q_table"
   ]
  },
  {
   "cell_type": "code",
   "execution_count": 31,
   "metadata": {
    "collapsed": false,
    "deletable": true,
    "editable": true,
    "run_control": {
     "frozen": false,
     "read_only": false
    },
    "scrolled": true
   },
   "outputs": [
    {
     "data": {
      "text/plain": [
       "[<matplotlib.lines.Line2D at 0x10f7cff60>]"
      ]
     },
     "execution_count": 31,
     "metadata": {},
     "output_type": "execute_result"
    },
    {
     "data": {
      "image/png": "[encoded data removed]",
      "text/plain": [
       "<matplotlib.figure.Figure at 0x10f7330f0>"
      ]
     },
     "metadata": {},
     "output_type": "display_data"
    }
   ],
   "source": [
    "r, q = q_learning(S, A, \"入口\", \"宝\", 1000)\n",
    "plt.plot(range(1000), r)"
   ]
  },
  {
   "cell_type": "code",
   "execution_count": 32,
   "metadata": {
    "collapsed": true,
    "deletable": true,
    "editable": true,
    "run_control": {
     "frozen": false,
     "read_only": false
    }
   },
   "outputs": [],
   "source": [
    "#Sarsa\n",
    "def sarsa(S, A, s_0, s_t, n_iter=1000):\n",
    "    \"\"\"\n",
    "    @param S state set\n",
    "    @param A action set\n",
    "    @param s_0 initial state\n",
    "    @param s_t terminal state\n",
    "    @param n_iter iteration number\n",
    "    @return reward list of each timestep\n",
    "    @return q value table\n",
    "    \"\"\"\n",
    "    gamma = 0.9\n",
    "    #initialize q_table\n",
    "    q_table = ENV.copy()\n",
    "    q_table[q_table.notnull()] = 1\n",
    "    #q_table = pd.DataFrame(np.ones(len(S), len(A)), index=S, columns=A) #optimistic initial value\n",
    "    #q_table = pd.DataFrame(np.ones(len(S), len(A)) * (-1), index=S, columns=A) #pessimistic initial value\n",
    "    reward_lst = []\n",
    "    for k in range(n_iter):\n",
    "        alpha = 1/(k+1) #0.1\n",
    "        s = s_0\n",
    "        a_arg = softmax_boltzman(np.array(q_table.loc[s].copy(), dtype=np.float64), T=1.5)  #change these 2 method\n",
    "        a = A[a_arg]\n",
    "        total_r = 0\n",
    "        while not s == s_t:\n",
    "            s_next = ENV[a][np.where(S==s)[0][0]]\n",
    "            r = reward[s_next] - 1\n",
    "            total_r += r\n",
    "            a_arg = softmax_boltzman(np.array(q_table.loc[s_next].copy(), dtype=np.float64), T=1.5) #change these 2 method, but s_next\n",
    "            a_next = A[a_arg]\n",
    "            q_table[a][s] += alpha * (r + gamma * q_table[a_next][s_next] - q_table[a][s])\n",
    "            s = s_next\n",
    "            a = a_next\n",
    "        reward_lst.append(total_r)\n",
    "    return reward_lst, q_table"
   ]
  },
  {
   "cell_type": "code",
   "execution_count": 36,
   "metadata": {
    "collapsed": false,
    "deletable": true,
    "editable": true,
    "run_control": {
     "frozen": false,
     "read_only": false
    },
    "scrolled": true
   },
   "outputs": [
    {
     "data": {
      "text/plain": [
       "[<matplotlib.lines.Line2D at 0x10fa3c7b8>]"
      ]
     },
     "execution_count": 36,
     "metadata": {},
     "output_type": "execute_result"
    },
    {
     "data": {
      "image/png": "[encoded data removed]",
      "text/plain": [
       "<matplotlib.figure.Figure at 0x10f956a90>"
      ]
     },
     "metadata": {},
     "output_type": "display_data"
    }
   ],
   "source": [
    "r,q = sarsa(S, A, \"入口\", \"宝\", 1000)\n",
    "plt.plot(range(1000), r)"
   ]
  },
  {
   "cell_type": "code",
   "execution_count": 34,
   "metadata": {
    "collapsed": true,
    "deletable": true,
    "editable": true,
    "run_control": {
     "frozen": false,
     "read_only": false
    }
   },
   "outputs": [],
   "source": [
    "#バケツリレー・アルゴリズム\n",
    "def bucket_brigade(S, A, s_0, s_t, c_bid = 0.1 ,n_iter=1000):\n",
    "    \"\"\"\n",
    "    caution:\n",
    "    ここで扱っているバケツリレーアルゴリズムはp. 47で紹介されたシンプルなものである\n",
    "    オリジナルのモデルではドントケアなどが組み込まれている ref : p.49\n",
    "    \"\"\"\n",
    "    \"\"\"\n",
    "    @param S state set\n",
    "    @param A action set\n",
    "    @param s_0 initial state\n",
    "    @param s_t terminal state\n",
    "    @param c_bid bid patameter\n",
    "    @param n_iter iteration number\n",
    "    @return reward list of each timestep\n",
    "    @return q value table\n",
    "    \"\"\"\n",
    "    #initialize q_table\n",
    "    q_table = ENV.copy()\n",
    "    q_table[q_table.notnull()] = 1\n",
    "    #q_table = pd.DataFrame(np.ones(len(S), len(A)), index=S, columns=A) #optimistic initial value\n",
    "    #q_table = pd.DataFrame(np.ones(len(S), len(A)) * (-1), index=S, columns=A) #pessimistic initial value\n",
    "    reward_lst = []\n",
    "    for k in range(n_iter):\n",
    "        s = s_0\n",
    "        bid_table = c_bid * q_table.copy()\n",
    "        a_arg = softmax_boltzman(np.array(bid_table.loc[s].copy(), dtype=np.float64), T=1.5)  #change these 2 method\n",
    "        a = A[a_arg]\n",
    "        total_r = 0\n",
    "        while not s == s_t:\n",
    "            s_next = ENV[a][np.where(S==s)[0][0]]\n",
    "            r = reward[s_next] - 1\n",
    "            total_r += r\n",
    "            bid_table.loc[s_next] =  c_bid * q_table.copy().loc[s_next]\n",
    "            a_arg = softmax_boltzman(np.array(bid_table.loc[s_next].copy(), dtype=np.float64), T=1.5) #change these 2 method, but s_next\n",
    "            a_next = A[a_arg]\n",
    "            q_table[a][s] += (r + bid_table[a_next][s_next] - bid_table[a][s])\n",
    "            s = s_next\n",
    "            a = a_next\n",
    "        reward_lst.append(total_r)\n",
    "    return reward_lst, q_table"
   ]
  },
  {
   "cell_type": "code",
   "execution_count": 35,
   "metadata": {
    "collapsed": false,
    "deletable": true,
    "editable": true,
    "run_control": {
     "frozen": false,
     "read_only": false
    }
   },
   "outputs": [
    {
     "data": {
      "text/plain": [
       "[<matplotlib.lines.Line2D at 0x10f979d30>]"
      ]
     },
     "execution_count": 35,
     "metadata": {},
     "output_type": "execute_result"
    },
    {
     "data": {
      "image/png": "[encoded data removed]",
      "text/plain": [
       "<matplotlib.figure.Figure at 0x10f7da8d0>"
      ]
     },
     "metadata": {},
     "output_type": "display_data"
    }
   ],
   "source": [
    "r,q = bucket_brigade(S, A, \"入口\", \"宝\", n_iter=1000)\n",
    "plt.plot(range(1000), r)"
   ]
  },
  {
   "cell_type": "code",
   "execution_count": null,
   "metadata": {
    "collapsed": true,
    "deletable": true,
    "editable": true,
    "run_control": {
     "frozen": false,
     "read_only": false
    }
   },
   "outputs": [],
   "source": [
    "#TD学習\n",
    "def TD():"
   ]
  },
  {
   "cell_type": "markdown",
   "metadata": {
    "deletable": true,
    "editable": true,
    "run_control": {
     "frozen": false,
     "read_only": false
    }
   },
   "source": [
    "### 学習手法(非ブートストラップ型学習)\n",
    "ref : マルチエージェント学習 p.51 高玉圭樹"
   ]
  },
  {
   "cell_type": "code",
   "execution_count": null,
   "metadata": {
    "collapsed": true,
    "deletable": true,
    "editable": true,
    "run_control": {
     "frozen": false,
     "read_only": false
    }
   },
   "outputs": [],
   "source": [
    "#モンテカルロ法\n",
    "def MonteCarlo():"
   ]
  },
  {
   "cell_type": "code",
   "execution_count": null,
   "metadata": {
    "collapsed": true,
    "deletable": true,
    "editable": true,
    "run_control": {
     "frozen": false,
     "read_only": false
    }
   },
   "outputs": [],
   "source": [
    "#Profit Sharing\n",
    "def ProfitSharing():"
   ]
  },
  {
   "cell_type": "markdown",
   "metadata": {
    "deletable": true,
    "editable": true,
    "run_control": {
     "frozen": false,
     "read_only": false
    }
   },
   "source": [
    "## マルチエージェント強化学習"
   ]
  },
  {
   "cell_type": "markdown",
   "metadata": {
    "deletable": true,
    "editable": true,
    "run_control": {
     "frozen": false,
     "read_only": false
    }
   },
   "source": [
    "### n人繰り返し囚人のジレンマ(n=2)\n",
    "n人(n>2)に拡張するときの報酬体系は[こちら](https://www.jstage.jst.go.jp/article/sicetr/49/3/49_370/_pdf)を参考に\n",
    "\n",
    "参考文献\n",
    "[\"学習あり繰り返し囚人のジレンマにおける協調行動の発生\", JSAI 2014](https://kaigi.org/jsai/webprogram/2014/pdf/699.pdf)"
   ]
  },
  {
   "cell_type": "code",
   "execution_count": 124,
   "metadata": {
    "collapsed": true,
    "deletable": true,
    "editable": true,
    "run_control": {
     "frozen": false,
     "read_only": false
    }
   },
   "outputs": [],
   "source": [
    "#なんかよくわからんsoftmax\n",
    "def psuedo_reward(A, act_history, reward_history, alpha, beta=1.0):\n",
    "    \"\"\"\n",
    "    @param A \n",
    "    @param act_history  \n",
    "    @param  reward_history \n",
    "    @param alpha \n",
    "    @return selected action arg\n",
    "    \"\"\"\n",
    "    def gamma(x, y):\n",
    "        if x == y:\n",
    "            return 1\n",
    "        return 0\n",
    "    \n",
    "    K = len(act_history)\n",
    "    R = np.array([0,0])\n",
    "    R[0] = np.sum([alpha ** k * gamma(\"0\", act_history[k-1]) * reward_history[k-1] for k in range(1, K+1)])\n",
    "    R[1] = np.sum([alpha ** k * gamma(\"1\", act_history[k-1]) * reward_history[k-1] for k in range(1, K+1)])\n",
    "    \n",
    "    return np.random.choice([\"0\", \"1\"], p=(np.exp(R * beta))/np.sum(np.exp(R * beta)))"
   ]
  },
  {
   "cell_type": "code",
   "execution_count": 51,
   "metadata": {
    "collapsed": true,
    "deletable": true,
    "editable": true,
    "run_control": {
     "frozen": false,
     "read_only": false
    }
   },
   "outputs": [],
   "source": [
    "class Agent:\n",
    "    def __init__(self, A, agent_id, K):\n",
    "        self.A = A\n",
    "        self.agent_id = agent_id\n",
    "        self.reward = 0\n",
    "        self.K = K\n",
    "        self.reward_history = [0] * K\n",
    "        self.act_history = [\"\"] * K\n",
    "        \n",
    "    def reinit(self):\n",
    "        self.reward = 0\n",
    "        self.reward_history = [0] * self.K\n",
    "        self.act_history = [\"\"] * self.K\n",
    "    \n",
    "    def random_act(self):\n",
    "        action = np.random.choice(self.A)\n",
    "        self.act_history = [action] + self.act_history[:self.K-1]\n",
    "        return action\n",
    "    \n",
    "    def act(self, alpha):\n",
    "        action = psuedo_reward(self.A, self.act_history, self.reward_history, alpha)\n",
    "        self.act_history = [action] + self.act_history[:self.K-1]\n",
    "        return action\n",
    "        \n",
    "    def add_reward(self, reward):\n",
    "        self.reward += reward\n",
    "        self.reward_history = [reward] + self.reward_history[:self.K-1]"
   ]
  },
  {
   "cell_type": "code",
   "execution_count": 48,
   "metadata": {
    "collapsed": false,
    "deletable": true,
    "editable": true,
    "run_control": {
     "frozen": false,
     "read_only": false
    }
   },
   "outputs": [],
   "source": [
    "#繰り返し囚人のジレンマゲーム\n",
    "class IPD:\n",
    "    def __init__(self, K=10):\n",
    "        self.K = K\n",
    "        self.reward_func = {\"00\":2,\"01\":0,\"10\":3,\"11\":1}\n",
    "        self.agent0 = Agent([\"0\", \"1\"], 0, self.K)\n",
    "        self.agent1 = Agent([\"0\", \"1\"], 1, self.K)\n",
    "        self.history = []\n",
    "        \n",
    "    def run(self, n_iter, alpha=1.0):\n",
    "        for i in tqdm(range(n_iter)):\n",
    "            if i < self.K:\n",
    "                act0 = self.agent0.random_act()\n",
    "                act1 = self.agent1.random_act()\n",
    "            else:\n",
    "                act0 = self.agent0.act(alpha)\n",
    "                act1 = self.agent1.act(alpha)\n",
    "                \n",
    "            reward0 = self.reward_func[act0+act1]\n",
    "            reward1 = self.reward_func[act1+act0]\n",
    "\n",
    "            self.agent0.add_reward(reward0)\n",
    "            self.agent1.add_reward(reward1)\n",
    "            \n",
    "            self.history.append(act0+act1)\n",
    "        \n",
    "    def reinit(self):\n",
    "        self.agent0.reinit()\n",
    "        self.agent1.reinit()\n",
    "        self.history = []"
   ]
  },
  {
   "cell_type": "code",
   "execution_count": 123,
   "metadata": {
    "collapsed": false
   },
   "outputs": [
    {
     "name": "stderr",
     "output_type": "stream",
     "text": [
      "                                      "
     ]
    },
    {
     "name": "stdout",
     "output_type": "stream",
     "text": [
      "Counter({'11': 37, '01': 8, '00': 3, '10': 2})\n"
     ]
    },
    {
     "name": "stderr",
     "output_type": "stream",
     "text": [
      "\r"
     ]
    }
   ],
   "source": [
    "demo = IPD()\n",
    "demo.run(50, alpha=1.0)\n",
    "count_dict = collections.Counter(demo.history)\n",
    "print(count_dict)"
   ]
  },
  {
   "cell_type": "code",
   "execution_count": 52,
   "metadata": {
    "collapsed": true,
    "deletable": true,
    "editable": true,
    "run_control": {
     "frozen": false,
     "read_only": false
    }
   },
   "outputs": [],
   "source": [
    "#繰り返し行き詰まりゲーム\n",
    "class IDG:\n",
    "    def __init__(self, K=10):\n",
    "        self.K = K\n",
    "        self.reward_func = {\"00\":1,\"01\":0,\"10\":3,\"11\":2}\n",
    "        self.agent0 = Agent([\"0\", \"1\"], 0, self.K)\n",
    "        self.agent1 = Agent([\"0\", \"1\"], 1, self.K)\n",
    "        self.history = []\n",
    "        \n",
    "    def run(self, n_iter, alpha=1.0):\n",
    "        for i in tqdm(range(n_iter)):\n",
    "            if i < self.K:\n",
    "                act0 = self.agent0.random_act()\n",
    "                act1 = self.agent1.random_act()\n",
    "            else:\n",
    "                act0 = self.agent0.act(alpha)\n",
    "                act1 = self.agent1.act(alpha)\n",
    "                \n",
    "            reward0 = self.reward_func[act0+act1]\n",
    "            reward1 = self.reward_func[act1+act0]\n",
    "\n",
    "            self.agent0.add_reward(reward0)\n",
    "            self.agent1.add_reward(reward1)\n",
    "            \n",
    "            self.history.append(act0+act1)\n",
    "        \n",
    "    def reinit(self):\n",
    "        self.agent0.reinit()\n",
    "        self.agent1.reinit()\n",
    "        self.history = []"
   ]
  },
  {
   "cell_type": "code",
   "execution_count": 72,
   "metadata": {
    "collapsed": false
   },
   "outputs": [
    {
     "name": "stderr",
     "output_type": "stream",
     "text": [
      "                                      "
     ]
    },
    {
     "name": "stdout",
     "output_type": "stream",
     "text": [
      "Counter({'00': 44, '11': 3, '01': 2, '10': 1})\n"
     ]
    },
    {
     "name": "stderr",
     "output_type": "stream",
     "text": [
      "\r"
     ]
    }
   ],
   "source": [
    "demo = IPD()\n",
    "demo.run(50, alpha=0.7)\n",
    "count_dict = collections.Counter(demo.history)\n",
    "print(count_dict)"
   ]
  },
  {
   "cell_type": "markdown",
   "metadata": {},
   "source": [
    "### 繰り返し囚人のジレンマ+複雑ネットワーク\n",
    "参考文献 [\"不均質な環境における拡張協調期待戦略の効率と特性\", 計算社会科学研究会 Technical Report](http://css-japan.com/wp-content/uploads/2017/02/05.CSSJWS.pdf)"
   ]
  },
  {
   "cell_type": "code",
   "execution_count": null,
   "metadata": {
    "collapsed": true
   },
   "outputs": [],
   "source": [
    "#繰り返し囚人のジレンマゲーム\n",
    "class IPD_w_net:\n",
    "    def __init__(self, K=10):\n",
    "        self.K = K\n",
    "        self.reward_func = {\"00\":3,\"01\":0,\"10\":5,\"11\":1}\n",
    "        self.agents = self.__create_agents() #ネットワーク上のノードとする\n",
    "        \n",
    "        self.history = []\n",
    "        \n",
    "    def run(self, n_iter, alpha=1.0):\n",
    "        for i in tqdm(range(n_iter)):\n",
    "            if i < self.K:\n",
    "                act0 = self.agent0.random_act()\n",
    "                act1 = self.agent1.random_act()\n",
    "            else:\n",
    "                act0 = self.agent0.act(alpha)\n",
    "                act1 = self.agent1.act(alpha)\n",
    "                \n",
    "            reward0 = self.reward_func[act0+act1]\n",
    "            reward1 = self.reward_func[act1+act0]\n",
    "\n",
    "            self.agent0.add_reward(reward0)\n",
    "            self.agent1.add_reward(reward1)\n",
    "            \n",
    "            self.history.append(act0+act1)\n",
    "        \n",
    "    def reinit(self):\n",
    "        self.agent0.reinit()\n",
    "        self.agent1.reinit()\n",
    "        self.history = []"
   ]
  }
 ],
 "metadata": {
  "kernelspec": {
   "display_name": "Python 3",
   "language": "python",
   "name": "python3"
  },
  "language_info": {
   "codemirror_mode": {
    "name": "ipython",
    "version": 3
   },
   "file_extension": ".py",
   "mimetype": "text/x-python",
   "name": "python",
   "nbconvert_exporter": "python",
   "pygments_lexer": "ipython3",
   "version": "3.5.2"
  }
 },
 "nbformat": 4,
 "nbformat_minor": 2
}
