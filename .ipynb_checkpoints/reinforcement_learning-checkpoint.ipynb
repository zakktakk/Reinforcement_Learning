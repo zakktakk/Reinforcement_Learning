{
 "cells": [
  {
   "cell_type": "markdown",
   "metadata": {
    "collapsed": true,
    "deletable": true,
    "editable": true
   },
   "source": [
    "# 強化学習"
   ]
  },
  {
   "cell_type": "code",
   "execution_count": 12,
   "metadata": {
    "collapsed": true,
    "deletable": true,
    "editable": true
   },
   "outputs": [],
   "source": [
    "from __future__ import division\n",
    "import numpy as np\n",
    "import random\n",
    "import math\n",
    "import matplotlib.pyplot as plt\n",
    "%matplotlib inline\n",
    "import seaborn"
   ]
  },
  {
   "cell_type": "markdown",
   "metadata": {
    "deletable": true,
    "editable": true
   },
   "source": [
    "## 多腕バンディット問題"
   ]
  },
  {
   "cell_type": "markdown",
   "metadata": {
    "deletable": true,
    "editable": true
   },
   "source": [
    "### greedy algorithm"
   ]
  },
  {
   "cell_type": "code",
   "execution_count": 6,
   "metadata": {
    "collapsed": true,
    "deletable": true,
    "editable": true
   },
   "outputs": [],
   "source": [
    "#引数 -> dict {方策名(番号?), [プレイした回数,報酬の和]}\n",
    "#return -> 選択した方策\n",
    "def greedy(status_dict, n):\n",
    "    dict_keys = status_dict.keys()\n",
    "    play_num_ary = np.array([status_dict[key][0] for key in dict_keys])\n",
    "    if np.min(play_num_ary) < n:\n",
    "        return play_num_ary[np.argmin(play_num_ary)]\n",
    "    else:\n",
    "        mu_lst = np.array([status_dict[key][1] / status_dict[key][0] for key in dict_keys])\n",
    "        return dict_keys[np.argmax(mu_lst)]"
   ]
  },
  {
   "cell_type": "markdown",
   "metadata": {
    "deletable": true,
    "editable": true
   },
   "source": [
    "### ε-greedy algorithm"
   ]
  },
  {
   "cell_type": "code",
   "execution_count": 59,
   "metadata": {
    "collapsed": false,
    "deletable": true,
    "editable": true
   },
   "outputs": [],
   "source": [
    "#引数 -> dict {方策名(番号?), [プレイした回数,報酬の和]}\n",
    "#return -> 選択した方策\n",
    "def eps_greedy(status_dict, eps):\n",
    "    dict_keys = status_dict.keys()\n",
    "    play_num_ary = np.array([status_dict[key][0] for key in dict_keys])\n",
    "    if np.min(play_num_ary) == 0:\n",
    "        return dict_keys[np.argmin(play_num_ary)]\n",
    "    if np.random.rand() <= eps:\n",
    "        return random.choice(np.array(dict_keys))\n",
    "    else:\n",
    "        mu_lst = np.array([status_dict[key][1] / status_dict[key][0] for key in dict_keys])\n",
    "        return dict_keys[np.argmax(mu_lst)]"
   ]
  },
  {
   "cell_type": "markdown",
   "metadata": {
    "deletable": true,
    "editable": true
   },
   "source": [
    "### 楽観的初期値法(optimistic initial values)"
   ]
  },
  {
   "cell_type": "code",
   "execution_count": 6,
   "metadata": {
    "collapsed": true,
    "deletable": true,
    "editable": true
   },
   "outputs": [],
   "source": [
    "#引数 -> dict {方策名(番号?), [プレイした回数,報酬の和]}, r_sup : 各腕からの報酬の上界, K : r_supが観測された(見積もり)回数\n",
    "#return -> 選択した方策\n",
    "def optimistic_init_val(status_dict, r_sup, K=1):\n",
    "    dict_keys = status_dict.keys()\n",
    "    print dict_keys\n",
    "    mu_lst = np.array([(status_dict[key][1] + K * r_sup) / (status_dict[key][0] + K) for key in dict_keys])\n",
    "    print mu_lst\n",
    "    return dict_keys[np.argmax(mu_lst)]"
   ]
  },
  {
   "cell_type": "markdown",
   "metadata": {
    "deletable": true,
    "editable": true
   },
   "source": [
    "### UCB1 (Upper Confidence Bound) algorithm"
   ]
  },
  {
   "cell_type": "code",
   "execution_count": 13,
   "metadata": {
    "collapsed": true,
    "deletable": true,
    "editable": true
   },
   "outputs": [],
   "source": [
    "#引数 -> dict {方策名(番号?), [プレイした回数,報酬の和]}, R : はらいもどしがくん最大値と最小値の差\n",
    "#return -> 選択した方策\n",
    "def UBC1(status_dict, R):\n",
    "    dict_keys = status_dict.keys()\n",
    "    play_num_ary = np.array([status_dict[key][0] for key in dict_keys])\n",
    "    if np.min(play_num_ary) == 0:\n",
    "        return dict_keys[np.argmin(play_num_ary)]\n",
    "    mu_lst = np.array([status_dict[key][1] / status_dict[key][0] for key in dict_keys])\n",
    "    U_bunshi = 2 * math.log(np.sum(play_num_ary))\n",
    "    U_lst = np.array([R * math.sqrt(U_bunshi / status_dict[key][0]) for key in dict_keys])\n",
    "    return dict_keys[np.argmax(mu_lst+U_lst)]  "
   ]
  },
  {
   "cell_type": "code",
   "execution_count": null,
   "metadata": {
    "collapsed": true
   },
   "outputs": [],
   "source": [
    "#結果のプロットはmatplotlibのstackplotでできそう"
   ]
  }
 ],
 "metadata": {
  "kernelspec": {
   "display_name": "Python 2",
   "language": "python",
   "name": "python2"
  },
  "language_info": {
   "codemirror_mode": {
    "name": "ipython",
    "version": 2
   },
   "file_extension": ".py",
   "mimetype": "text/x-python",
   "name": "python",
   "nbconvert_exporter": "python",
   "pygments_lexer": "ipython2",
   "version": "2.7.12"
  }
 },
 "nbformat": 4,
 "nbformat_minor": 2
}
