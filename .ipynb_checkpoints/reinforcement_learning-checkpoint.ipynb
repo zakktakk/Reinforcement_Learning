{
 "cells": [
  {
   "cell_type": "markdown",
   "metadata": {
    "collapsed": true,
    "deletable": true,
    "editable": true
   },
   "source": [
    "## 強化学習"
   ]
  },
  {
   "cell_type": "code",
   "execution_count": 14,
   "metadata": {
    "collapsed": true
   },
   "outputs": [],
   "source": [
    "from __future__ import division\n",
    "import numpy as np\n",
    "import random\n",
    "import matplotlib.pyplot as plt\n",
    "%matplotlib inline\n",
    "import seaborn"
   ]
  },
  {
   "cell_type": "code",
   "execution_count": 15,
   "metadata": {
    "collapsed": true
   },
   "outputs": [],
   "source": [
    "#引数 -> dict {方策名(番号?), [プレイした回数,報酬の和]}\n",
    "#return -> 選択した方策\n",
    "#なんか冗長？ソートする必要ないきがする -> ただ先頭から探索するに変更の可能性\n",
    "#っていうか回数だけ取得してargminとる方がいいぞい！\n",
    "def greedy(status_dict, n):\n",
    "    #n回以下の方策はランダムに選んだ方がいいのか？\n",
    "    sorted_status_lst = sorted(status_dict.items(), key=lambda x: x[1][0]) #プレイした回数少ない順にソート\n",
    "    if sorted_status_lst[0][1][0] < n:\n",
    "        return sorted_status_lst[0][0]\n",
    "    else:\n",
    "        mu_lst = np.array([x[1][1] / x[1][0] for x in sorted_status_lst])\n",
    "    return sorted_status_lst[np.argmax(mu_lst)][0]"
   ]
  },
  {
   "cell_type": "code",
   "execution_count": 24,
   "metadata": {
    "collapsed": true
   },
   "outputs": [],
   "source": [
    "#引数 -> dict {方策名(番号?), [プレイした回数,報酬の和]}\n",
    "#return -> 選択した方策\n",
    "def eps_greedy(status_dict, eps):\n",
    "    sorted_status_lst = sorted(status_dict.items(), key=lambda x: x[1][0]) #プレイした回数少ない順にソート\n",
    "    if sorted_status_lst[0][1][0] == 0:\n",
    "        return sorted_status_lst[0][0]\n",
    "    if np.random.rand() <= eps:\n",
    "        print sorted_status_lst\n",
    "        return random.choice(sorted_status_lst)[0]\n",
    "    else:\n",
    "        mu_lst = np.array([x[1][1] / x[1][0] for x in sorted_status_lst])\n",
    "        return sorted_status_lst[np.argmax(mu_lst)][0]"
   ]
  },
  {
   "cell_type": "code",
   "execution_count": 60,
   "metadata": {
    "collapsed": false
   },
   "outputs": [
    {
     "name": "stdout",
     "output_type": "stream",
     "text": [
      "[('a', [10, 2]), ('b', [10, 1])]\n",
      "a\n"
     ]
    }
   ],
   "source": [
    "a = {\"a\":[10,2],\"b\":[10,1]}\n",
    "print eps_greedy(a, 0.5)"
   ]
  }
 ],
 "metadata": {
  "kernelspec": {
   "display_name": "Python 2",
   "language": "python",
   "name": "python2"
  },
  "language_info": {
   "codemirror_mode": {
    "name": "ipython",
    "version": 2
   },
   "file_extension": ".py",
   "mimetype": "text/x-python",
   "name": "python",
   "nbconvert_exporter": "python",
   "pygments_lexer": "ipython2",
   "version": "2.7.12"
  }
 },
 "nbformat": 4,
 "nbformat_minor": 2
}
